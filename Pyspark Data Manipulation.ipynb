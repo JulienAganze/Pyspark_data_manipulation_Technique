{
 "cells": [
  {
   "cell_type": "code",
   "execution_count": 1,
   "id": "0a948d90",
   "metadata": {},
   "outputs": [],
   "source": [
    "import pyspark\n",
    "from pyspark.sql import SparkSession\n",
    "\n",
    "# our spark session is the way that we are interfacing between any code instruction that we want to run \n",
    "#and the underlining clusters and all the executors that we have"
   ]
  },
  {
   "cell_type": "code",
   "execution_count": 2,
   "id": "a2afefa2",
   "metadata": {},
   "outputs": [
    {
     "name": "stderr",
     "output_type": "stream",
     "text": [
      "23/04/03 10:01:30 WARN Utils: Your hostname, julian-Latitude-7280 resolves to a loopback address: 127.0.1.1; using 192.168.0.102 instead (on interface wlp1s0)\n",
      "23/04/03 10:01:30 WARN Utils: Set SPARK_LOCAL_IP if you need to bind to another address\n",
      "WARNING: An illegal reflective access operation has occurred\n",
      "WARNING: Illegal reflective access by org.apache.spark.unsafe.Platform (file:/home/julian/spark-3.2.3-bin-hadoop3.2/jars/spark-unsafe_2.12-3.2.3.jar) to constructor java.nio.DirectByteBuffer(long,int)\n",
      "WARNING: Please consider reporting this to the maintainers of org.apache.spark.unsafe.Platform\n",
      "WARNING: Use --illegal-access=warn to enable warnings of further illegal reflective access operations\n",
      "WARNING: All illegal access operations will be denied in a future release\n",
      "Using Spark's default log4j profile: org/apache/spark/log4j-defaults.properties\n",
      "Setting default log level to \"WARN\".\n",
      "To adjust logging level use sc.setLogLevel(newLevel). For SparkR, use setLogLevel(newLevel).\n",
      "23/04/03 10:01:31 WARN NativeCodeLoader: Unable to load native-hadoop library for your platform... using builtin-java classes where applicable\n"
     ]
    }
   ],
   "source": [
    "spark = SparkSession.builder.master(\"local[*]\").appName(\"Datamanipulation\").getOrCreate()"
   ]
  },
  {
   "cell_type": "code",
   "execution_count": 3,
   "id": "e2d6c4da",
   "metadata": {
    "scrolled": true
   },
   "outputs": [
    {
     "data": {
      "text/html": [
       "\n",
       "            <div>\n",
       "                <p><b>SparkSession - in-memory</b></p>\n",
       "                \n",
       "        <div>\n",
       "            <p><b>SparkContext</b></p>\n",
       "\n",
       "            <p><a href=\"http://192.168.0.102:4040\">Spark UI</a></p>\n",
       "\n",
       "            <dl>\n",
       "              <dt>Version</dt>\n",
       "                <dd><code>v3.2.3</code></dd>\n",
       "              <dt>Master</dt>\n",
       "                <dd><code>local[*]</code></dd>\n",
       "              <dt>AppName</dt>\n",
       "                <dd><code>Datamanipulation</code></dd>\n",
       "            </dl>\n",
       "        </div>\n",
       "        \n",
       "            </div>\n",
       "        "
      ],
      "text/plain": [
       "<pyspark.sql.session.SparkSession at 0x7f071030adc0>"
      ]
     },
     "execution_count": 3,
     "metadata": {},
     "output_type": "execute_result"
    }
   ],
   "source": [
    "spark"
   ]
  },
  {
   "cell_type": "code",
   "execution_count": 51,
   "id": "9ff66e0f",
   "metadata": {},
   "outputs": [
    {
     "name": "stdout",
     "output_type": "stream",
     "text": [
      "WARNING *** OLE2 inconsistency: SSCS size is 0 but SSAT size is non-zero\n"
     ]
    }
   ],
   "source": [
    "import pandas as pd\n",
    "\n",
    "read_file = pd.read_excel (r'/home/julian/Python_course/Data_Manipulation_Techniques/Sample - EU Superstore.xls')\n",
    "read_file.to_csv (r'/home/julian/Python_course/Data_Manipulation_Techniques/Sample - EU Superstore.csv', \\\n",
    "                  index = None, header=True)"
   ]
  },
  {
   "cell_type": "code",
   "execution_count": 189,
   "id": "c450e389",
   "metadata": {},
   "outputs": [],
   "source": [
    "df = spark.read.option(\"header\",\"true\").csv(\"/home/julian/Python_course/Data_Manipulation_Techniques/Sample - EU Superstore.csv\")"
   ]
  },
  {
   "cell_type": "code",
   "execution_count": 190,
   "id": "0aaf5990",
   "metadata": {},
   "outputs": [
    {
     "data": {
      "text/plain": [
       "DataFrame[Row ID: string, Order ID: string, Order Date: string, Ship Date: string, Ship Mode: string, Customer ID: string, Customer Name: string, Segment: string, City: string, State: string, Country: string, Region: string, Product ID: string, Category: string, Sub-Category: string, Product Name: string, Sales: string, Quantity: string, Discount: string, Profit: string]"
      ]
     },
     "execution_count": 190,
     "metadata": {},
     "output_type": "execute_result"
    }
   ],
   "source": [
    "df"
   ]
  },
  {
   "cell_type": "code",
   "execution_count": 191,
   "id": "28803eef",
   "metadata": {},
   "outputs": [
    {
     "name": "stdout",
     "output_type": "stream",
     "text": [
      "root\n",
      " |-- Row ID: string (nullable = true)\n",
      " |-- Order ID: string (nullable = true)\n",
      " |-- Order Date: string (nullable = true)\n",
      " |-- Ship Date: string (nullable = true)\n",
      " |-- Ship Mode: string (nullable = true)\n",
      " |-- Customer ID: string (nullable = true)\n",
      " |-- Customer Name: string (nullable = true)\n",
      " |-- Segment: string (nullable = true)\n",
      " |-- City: string (nullable = true)\n",
      " |-- State: string (nullable = true)\n",
      " |-- Country: string (nullable = true)\n",
      " |-- Region: string (nullable = true)\n",
      " |-- Product ID: string (nullable = true)\n",
      " |-- Category: string (nullable = true)\n",
      " |-- Sub-Category: string (nullable = true)\n",
      " |-- Product Name: string (nullable = true)\n",
      " |-- Sales: string (nullable = true)\n",
      " |-- Quantity: string (nullable = true)\n",
      " |-- Discount: string (nullable = true)\n",
      " |-- Profit: string (nullable = true)\n",
      "\n"
     ]
    }
   ],
   "source": [
    "# dates and measures are being interpreted as a string\n",
    "df.printSchema()"
   ]
  },
  {
   "cell_type": "code",
   "execution_count": 192,
   "id": "5f79a6d8",
   "metadata": {},
   "outputs": [
    {
     "name": "stdout",
     "output_type": "stream",
     "text": [
      "+------+---------------+----------+----------+--------------+-----------+--------------+---------+-----+-------+--------------+------+---------------+---------------+------------+--------------------+------------------+--------+--------+------------------+\n",
      "|Row ID|       Order ID|Order Date| Ship Date|     Ship Mode|Customer ID| Customer Name|  Segment| City|  State|       Country|Region|     Product ID|       Category|Sub-Category|        Product Name|             Sales|Quantity|Discount|            Profit|\n",
      "+------+---------------+----------+----------+--------------+-----------+--------------+---------+-----+-------+--------------+------+---------------+---------------+------------+--------------------+------------------+--------+--------+------------------+\n",
      "|     1|ES-2018-1311038|2018-02-07|2018-02-11|Standard Class|   AS-10045|Aaron Smayling|Corporate|Leeds|England|United Kingdom| North|OFF-ST-10000988|Office Supplies|     Storage|Fellowes Folders,...| 79.19999999999999|       3|     0.0|              39.6|\n",
      "|     2|ES-2018-1311038|2018-02-07|2018-02-11|Standard Class|   AS-10045|Aaron Smayling|Corporate|Leeds|England|United Kingdom| North|TEC-AC-10004144|     Technology| Accessories|SanDisk Numeric K...| 388.9200000000001|       7|     0.0|               0.0|\n",
      "|     3|ES-2018-1311038|2018-02-07|2018-02-11|Standard Class|   AS-10045|Aaron Smayling|Corporate|Leeds|England|United Kingdom| North|OFF-LA-10001915|Office Supplies|      Labels|Avery Legal Exhib...|             35.19|       3|     0.0|             16.11|\n",
      "|     4|ES-2018-1311038|2018-02-07|2018-02-11|Standard Class|   AS-10045|Aaron Smayling|Corporate|Leeds|England|United Kingdom| North|OFF-ST-10004550|Office Supplies|     Storage|Fellowes Folders,...| 50.93999999999999|       2|     0.0|13.200000000000001|\n",
      "|     5|ES-2018-1311038|2018-02-07|2018-02-11|Standard Class|   AS-10045|Aaron Smayling|Corporate|Leeds|England|United Kingdom| North|TEC-AC-10004068|     Technology| Accessories|Memorex Memory Ca...|307.43999999999994|       3|     0.0| 73.71000000000001|\n",
      "+------+---------------+----------+----------+--------------+-----------+--------------+---------+-----+-------+--------------+------+---------------+---------------+------------+--------------------+------------------+--------+--------+------------------+\n",
      "only showing top 5 rows\n",
      "\n"
     ]
    }
   ],
   "source": [
    "# show method\n",
    "\n",
    "df.show(5)"
   ]
  },
  {
   "cell_type": "code",
   "execution_count": 193,
   "id": "af4c1fff",
   "metadata": {},
   "outputs": [
    {
     "data": {
      "text/plain": [
       "pyspark.sql.dataframe.DataFrame"
      ]
     },
     "execution_count": 193,
     "metadata": {},
     "output_type": "execute_result"
    }
   ],
   "source": [
    "# Let us explore a bit deeper the type of data we are dealing with\n",
    "\n",
    "type(df)"
   ]
  },
  {
   "cell_type": "code",
   "execution_count": 194,
   "id": "c77c89d6",
   "metadata": {},
   "outputs": [
    {
     "data": {
      "text/plain": [
       "['Row ID',\n",
       " 'Order ID',\n",
       " 'Order Date',\n",
       " 'Ship Date',\n",
       " 'Ship Mode',\n",
       " 'Customer ID',\n",
       " 'Customer Name',\n",
       " 'Segment',\n",
       " 'City',\n",
       " 'State',\n",
       " 'Country',\n",
       " 'Region',\n",
       " 'Product ID',\n",
       " 'Category',\n",
       " 'Sub-Category',\n",
       " 'Product Name',\n",
       " 'Sales',\n",
       " 'Quantity',\n",
       " 'Discount',\n",
       " 'Profit']"
      ]
     },
     "execution_count": 194,
     "metadata": {},
     "output_type": "execute_result"
    }
   ],
   "source": [
    "# This is exacteky the same as in pandas\n",
    "df.columns"
   ]
  },
  {
   "cell_type": "code",
   "execution_count": 195,
   "id": "f9790172",
   "metadata": {},
   "outputs": [
    {
     "data": {
      "text/plain": [
       "10000"
      ]
     },
     "execution_count": 195,
     "metadata": {},
     "output_type": "execute_result"
    }
   ],
   "source": [
    "df.count()"
   ]
  },
  {
   "cell_type": "code",
   "execution_count": 196,
   "id": "25db16c3",
   "metadata": {},
   "outputs": [
    {
     "data": {
      "text/plain": [
       "DataFrame[Row ID: string, Order ID: string, Order Date: string, Ship Date: string, Ship Mode: string, Customer ID: string, Customer Name: string, Segment: string, City: string, State: string, Country: string, Region: string, Product ID: string, Category: string, Sub-Category: string, Product Name: string, Sales: string, Quantity: string, Discount: string, Profit: string]"
      ]
     },
     "execution_count": 196,
     "metadata": {},
     "output_type": "execute_result"
    }
   ],
   "source": [
    "# Lazy operations vs non lazy operations\n",
    "\n",
    "# lazy operation: we are telling the spark session the concept of what we would like to\n",
    "# do but we are not actually executing it\n",
    "df.limit(5)"
   ]
  },
  {
   "cell_type": "code",
   "execution_count": 197,
   "id": "8d75563c",
   "metadata": {
    "scrolled": false
   },
   "outputs": [
    {
     "name": "stdout",
     "output_type": "stream",
     "text": [
      "+------+---------------+----------+----------+--------------+-----------+--------------+---------+-----+-------+--------------+------+---------------+---------------+------------+--------------------+------------------+--------+--------+------------------+\n",
      "|Row ID|       Order ID|Order Date| Ship Date|     Ship Mode|Customer ID| Customer Name|  Segment| City|  State|       Country|Region|     Product ID|       Category|Sub-Category|        Product Name|             Sales|Quantity|Discount|            Profit|\n",
      "+------+---------------+----------+----------+--------------+-----------+--------------+---------+-----+-------+--------------+------+---------------+---------------+------------+--------------------+------------------+--------+--------+------------------+\n",
      "|     1|ES-2018-1311038|2018-02-07|2018-02-11|Standard Class|   AS-10045|Aaron Smayling|Corporate|Leeds|England|United Kingdom| North|OFF-ST-10000988|Office Supplies|     Storage|Fellowes Folders,...| 79.19999999999999|       3|     0.0|              39.6|\n",
      "|     2|ES-2018-1311038|2018-02-07|2018-02-11|Standard Class|   AS-10045|Aaron Smayling|Corporate|Leeds|England|United Kingdom| North|TEC-AC-10004144|     Technology| Accessories|SanDisk Numeric K...| 388.9200000000001|       7|     0.0|               0.0|\n",
      "|     3|ES-2018-1311038|2018-02-07|2018-02-11|Standard Class|   AS-10045|Aaron Smayling|Corporate|Leeds|England|United Kingdom| North|OFF-LA-10001915|Office Supplies|      Labels|Avery Legal Exhib...|             35.19|       3|     0.0|             16.11|\n",
      "|     4|ES-2018-1311038|2018-02-07|2018-02-11|Standard Class|   AS-10045|Aaron Smayling|Corporate|Leeds|England|United Kingdom| North|OFF-ST-10004550|Office Supplies|     Storage|Fellowes Folders,...| 50.93999999999999|       2|     0.0|13.200000000000001|\n",
      "|     5|ES-2018-1311038|2018-02-07|2018-02-11|Standard Class|   AS-10045|Aaron Smayling|Corporate|Leeds|England|United Kingdom| North|TEC-AC-10004068|     Technology| Accessories|Memorex Memory Ca...|307.43999999999994|       3|     0.0| 73.71000000000001|\n",
      "+------+---------------+----------+----------+--------------+-----------+--------------+---------+-----+-------+--------------+------+---------------+---------------+------------+--------------------+------------------+--------+--------+------------------+\n",
      "\n"
     ]
    }
   ],
   "source": [
    "df.limit(5).show()"
   ]
  },
  {
   "cell_type": "code",
   "execution_count": 198,
   "id": "c73fc66b",
   "metadata": {},
   "outputs": [
    {
     "data": {
      "text/plain": [
       "StructType(List(StructField(Row ID,StringType,true),StructField(Order ID,StringType,true),StructField(Order Date,StringType,true),StructField(Ship Date,StringType,true),StructField(Ship Mode,StringType,true),StructField(Customer ID,StringType,true),StructField(Customer Name,StringType,true),StructField(Segment,StringType,true),StructField(City,StringType,true),StructField(State,StringType,true),StructField(Country,StringType,true),StructField(Region,StringType,true),StructField(Product ID,StringType,true),StructField(Category,StringType,true),StructField(Sub-Category,StringType,true),StructField(Product Name,StringType,true),StructField(Sales,StringType,true),StructField(Quantity,StringType,true),StructField(Discount,StringType,true),StructField(Profit,StringType,true)))"
      ]
     },
     "execution_count": 198,
     "metadata": {},
     "output_type": "execute_result"
    }
   ],
   "source": [
    "# This operation allows me to see the schema and most importantly to manipulate it\n",
    "df.schema"
   ]
  },
  {
   "cell_type": "code",
   "execution_count": 199,
   "id": "b638d806",
   "metadata": {},
   "outputs": [
    {
     "name": "stdout",
     "output_type": "stream",
     "text": [
      "StructField(Row ID,StringType,true)\n",
      "StructField(Order ID,StringType,true)\n",
      "StructField(Order Date,StringType,true)\n",
      "StructField(Ship Date,StringType,true)\n",
      "StructField(Ship Mode,StringType,true)\n",
      "StructField(Customer ID,StringType,true)\n",
      "StructField(Customer Name,StringType,true)\n",
      "StructField(Segment,StringType,true)\n",
      "StructField(City,StringType,true)\n",
      "StructField(State,StringType,true)\n",
      "StructField(Country,StringType,true)\n",
      "StructField(Region,StringType,true)\n",
      "StructField(Product ID,StringType,true)\n",
      "StructField(Category,StringType,true)\n",
      "StructField(Sub-Category,StringType,true)\n",
      "StructField(Product Name,StringType,true)\n",
      "StructField(Sales,StringType,true)\n",
      "StructField(Quantity,StringType,true)\n",
      "StructField(Discount,StringType,true)\n",
      "StructField(Profit,StringType,true)\n"
     ]
    }
   ],
   "source": [
    "for i in df.schema:\n",
    "    print(i)"
   ]
  },
  {
   "cell_type": "code",
   "execution_count": 200,
   "id": "683a3703",
   "metadata": {
    "scrolled": true
   },
   "outputs": [
    {
     "name": "stdout",
     "output_type": "stream",
     "text": [
      "+------+---------------+----------+----------+--------------+-----------+----------------+-----------+-------------+--------------------+--------------+-------+---------------+---------------+------------+--------------------+------------------+--------+--------+-------------------+\n",
      "|Row ID|       Order ID|Order Date| Ship Date|     Ship Mode|Customer ID|   Customer Name|    Segment|         City|               State|       Country| Region|     Product ID|       Category|Sub-Category|        Product Name|             Sales|Quantity|Discount|             Profit|\n",
      "+------+---------------+----------+----------+--------------+-----------+----------------+-----------+-------------+--------------------+--------------+-------+---------------+---------------+------------+--------------------+------------------+--------+--------+-------------------+\n",
      "|     1|ES-2018-1311038|2018-02-07|2018-02-11|Standard Class|   AS-10045|  Aaron Smayling|  Corporate|        Leeds|             England|United Kingdom|  North|OFF-ST-10000988|Office Supplies|     Storage|Fellowes Folders,...| 79.19999999999999|       3|     0.0|               39.6|\n",
      "|     2|ES-2018-1311038|2018-02-07|2018-02-11|Standard Class|   AS-10045|  Aaron Smayling|  Corporate|        Leeds|             England|United Kingdom|  North|TEC-AC-10004144|     Technology| Accessories|SanDisk Numeric K...| 388.9200000000001|       7|     0.0|                0.0|\n",
      "|     3|ES-2018-1311038|2018-02-07|2018-02-11|Standard Class|   AS-10045|  Aaron Smayling|  Corporate|        Leeds|             England|United Kingdom|  North|OFF-LA-10001915|Office Supplies|      Labels|Avery Legal Exhib...|             35.19|       3|     0.0|              16.11|\n",
      "|     4|ES-2018-1311038|2018-02-07|2018-02-11|Standard Class|   AS-10045|  Aaron Smayling|  Corporate|        Leeds|             England|United Kingdom|  North|OFF-ST-10004550|Office Supplies|     Storage|Fellowes Folders,...| 50.93999999999999|       2|     0.0| 13.200000000000001|\n",
      "|     5|ES-2018-1311038|2018-02-07|2018-02-11|Standard Class|   AS-10045|  Aaron Smayling|  Corporate|        Leeds|             England|United Kingdom|  North|TEC-AC-10004068|     Technology| Accessories|Memorex Memory Ca...|307.43999999999994|       3|     0.0|  73.71000000000001|\n",
      "|     6|ES-2018-1311038|2018-02-07|2018-02-11|Standard Class|   AS-10045|  Aaron Smayling|  Corporate|        Leeds|             England|United Kingdom|  North|OFF-ST-10002271|Office Supplies|     Storage|Rogers Shelving, ...|122.39999999999999|       2|     0.0|              37.92|\n",
      "|     7|ES-2018-1311038|2018-02-07|2018-02-11|Standard Class|   AS-10045|  Aaron Smayling|  Corporate|        Leeds|             England|United Kingdom|  North|TEC-PH-10003963|     Technology|      Phones|Apple Signal Boos...|            413.82|       3|     0.0|              20.61|\n",
      "|     8|ES-2016-5113958|2016-08-02|2016-08-07|  Second Class|   EB-13840|   Ellis Ballard|  Corporate|West Bromwich|             England|United Kingdom|  North|TEC-CO-10004325|     Technology|     Copiers|Canon Personal Co...|            428.22|       3|     0.0|             192.69|\n",
      "|     9|ES-2016-5113958|2016-08-02|2016-08-07|  Second Class|   EB-13840|   Ellis Ballard|  Corporate|West Bromwich|             England|United Kingdom|  North|OFF-AP-10004512|Office Supplies|  Appliances|   Hoover Stove, Red|           3979.29|       7|     0.0| 1989.5399999999997|\n",
      "|    10|ES-2016-5113958|2016-08-02|2016-08-07|  Second Class|   EB-13840|   Ellis Ballard|  Corporate|West Bromwich|             England|United Kingdom|  North|OFF-FA-10002393|Office Supplies|   Fasteners|Accos Push Pins, ...|             43.56|       3|     0.0| 12.599999999999998|\n",
      "|    11|ES-2016-2510515|2016-06-20|2016-06-20|      Same Day|   LH-17155|Logan Haushalter|   Consumer|   Le Bouscat|Aquitaine-Limousi...|        France|Central|OFF-LA-10002805|Office Supplies|      Labels|Hon Color Coded L...|25.259999999999998|       2|     0.0|               0.48|\n",
      "|    12|ES-2016-2510515|2016-06-20|2016-06-20|      Same Day|   LH-17155|Logan Haushalter|   Consumer|   Le Bouscat|Aquitaine-Limousi...|        France|Central|OFF-AP-10002330|Office Supplies|  Appliances|Hamilton Beach St...|          2443.905|       5|     0.1|  760.3049999999998|\n",
      "|    13|ES-2016-2510515|2016-06-20|2016-06-20|      Same Day|   LH-17155|Logan Haushalter|   Consumer|   Le Bouscat|Aquitaine-Limousi...|        France|Central|OFF-AR-10000505|Office Supplies|         Art|Binney & Smith Pe...|             12.21|       1|     0.0|                0.0|\n",
      "|    14|ES-2016-2510515|2016-06-20|2016-06-20|      Same Day|   LH-17155|Logan Haushalter|   Consumer|   Le Bouscat|Aquitaine-Limousi...|        France|Central|TEC-PH-10002898|     Technology|      Phones|Samsung Smart Pho...|2167.2960000000003|       4|    0.15|  790.4159999999999|\n",
      "|    15|ES-2016-2510515|2016-06-20|2016-06-20|      Same Day|   LH-17155|Logan Haushalter|   Consumer|   Le Bouscat|Aquitaine-Limousi...|        France|Central|OFF-ST-10001413|Office Supplies|     Storage|Rogers Folders, Blue|           138.105|       5|     0.1|-12.344999999999999|\n",
      "|    16|ES-2017-4380115|2017-02-16|2017-02-20|Standard Class|   KC-16540| Kelly Collister|   Consumer|   Strasbourg|Alsace-Champagne-...|        France|Central|OFF-ST-10003931|Office Supplies|     Storage|Smead Trays, Wire...|           128.385|       3|     0.1|  4.274999999999999|\n",
      "|    17|ES-2017-4380115|2017-02-16|2017-02-20|Standard Class|   KC-16540| Kelly Collister|   Consumer|   Strasbourg|Alsace-Champagne-...|        France|Central|TEC-AC-10004269|     Technology| Accessories|Belkin Memory Car...| 690.1199999999999|       6|     0.0|                0.0|\n",
      "|    18|ES-2017-4380115|2017-02-16|2017-02-20|Standard Class|   KC-16540| Kelly Collister|   Consumer|   Strasbourg|Alsace-Champagne-...|        France|Central|OFF-LA-10001676|Office Supplies|      Labels|Hon Removable Lab...|              8.16|       1|     0.0| 1.1400000000000001|\n",
      "|    19|ES-2018-2573330|2018-11-03|2018-11-08|Standard Class|   BF-11170|      Ben Ferrer|Home Office|         Unna|North Rhine-Westp...|       Germany|Central|TEC-MA-10000811|     Technology|    Machines|Okidata Phone, Du...|            347.88|       4|     0.0|              76.44|\n",
      "|    20|ES-2018-2573330|2018-11-03|2018-11-08|Standard Class|   BF-11170|      Ben Ferrer|Home Office|         Unna|North Rhine-Westp...|       Germany|Central|OFF-ST-10000648|Office Supplies|     Storage|Eldon File Cart, ...| 575.5050000000001|       5|     0.1| 12.704999999999998|\n",
      "+------+---------------+----------+----------+--------------+-----------+----------------+-----------+-------------+--------------------+--------------+-------+---------------+---------------+------------+--------------------+------------------+--------+--------+-------------------+\n",
      "only showing top 20 rows\n",
      "\n"
     ]
    }
   ],
   "source": [
    "# genric pyspark cleaning operations\n",
    "\n",
    "# Here we want to drop all rows which have a null value in any of the columns\n",
    "\n",
    "#I like o constatntly redefine my dataframe as I am applying these operations\n",
    "df = df.dropna()\n",
    "df.show()"
   ]
  },
  {
   "cell_type": "code",
   "execution_count": 201,
   "id": "a2b3ed2a",
   "metadata": {},
   "outputs": [],
   "source": [
    "# Sometimes we have too many columns and we need to drop some them\n",
    "\n",
    "df = df.drop(\"Segment\")"
   ]
  },
  {
   "cell_type": "code",
   "execution_count": 202,
   "id": "efd41bad",
   "metadata": {},
   "outputs": [
    {
     "name": "stdout",
     "output_type": "stream",
     "text": [
      "root\n",
      " |-- Row ID: string (nullable = true)\n",
      " |-- Order ID: string (nullable = true)\n",
      " |-- Order Date: string (nullable = true)\n",
      " |-- Ship Date: string (nullable = true)\n",
      " |-- Ship Mode: string (nullable = true)\n",
      " |-- Customer ID: string (nullable = true)\n",
      " |-- Customer Name: string (nullable = true)\n",
      " |-- City: string (nullable = true)\n",
      " |-- State: string (nullable = true)\n",
      " |-- Country: string (nullable = true)\n",
      " |-- Region: string (nullable = true)\n",
      " |-- Product ID: string (nullable = true)\n",
      " |-- Category: string (nullable = true)\n",
      " |-- Sub-Category: string (nullable = true)\n",
      " |-- Product Name: string (nullable = true)\n",
      " |-- Sales: string (nullable = true)\n",
      " |-- Quantity: string (nullable = true)\n",
      " |-- Discount: string (nullable = true)\n",
      " |-- Profit: string (nullable = true)\n",
      "\n"
     ]
    }
   ],
   "source": [
    "df.printSchema()"
   ]
  },
  {
   "cell_type": "code",
   "execution_count": 203,
   "id": "fab8b3fb",
   "metadata": {},
   "outputs": [],
   "source": [
    "# When I am not fundamentally changing the shape of the dataframe I keep writting on top of the samee variable\n"
   ]
  },
  {
   "cell_type": "code",
   "execution_count": 204,
   "id": "ae3d0964",
   "metadata": {},
   "outputs": [],
   "source": [
    "# what if we want to drop multiple columns\n",
    "\n",
    "columns_to_drop = (\"Segment\",'Country','Region')\n",
    "df = df.drop(*columns_to_drop)"
   ]
  },
  {
   "cell_type": "code",
   "execution_count": 205,
   "id": "4b82725b",
   "metadata": {},
   "outputs": [
    {
     "name": "stdout",
     "output_type": "stream",
     "text": [
      "root\n",
      " |-- Row ID: string (nullable = true)\n",
      " |-- Order ID: string (nullable = true)\n",
      " |-- Order Date: string (nullable = true)\n",
      " |-- Ship Date: string (nullable = true)\n",
      " |-- Ship Mode: string (nullable = true)\n",
      " |-- Customer ID: string (nullable = true)\n",
      " |-- Customer Name: string (nullable = true)\n",
      " |-- City: string (nullable = true)\n",
      " |-- State: string (nullable = true)\n",
      " |-- Product ID: string (nullable = true)\n",
      " |-- Category: string (nullable = true)\n",
      " |-- Sub-Category: string (nullable = true)\n",
      " |-- Product Name: string (nullable = true)\n",
      " |-- Sales: string (nullable = true)\n",
      " |-- Quantity: string (nullable = true)\n",
      " |-- Discount: string (nullable = true)\n",
      " |-- Profit: string (nullable = true)\n",
      "\n"
     ]
    }
   ],
   "source": [
    "df.printSchema()"
   ]
  },
  {
   "cell_type": "code",
   "execution_count": 206,
   "id": "f4f7111a",
   "metadata": {},
   "outputs": [
    {
     "name": "stdout",
     "output_type": "stream",
     "text": [
      "+------+---------------+----------+----------+--------------+-----------+----------------+-------------+--------------------+---------------+---------------+------------+--------------------+------------------+--------+--------+-------------------+\n",
      "|Row ID|       Order ID|Order Date| Ship Date|     Ship Mode|Customer ID|   Customer Name|         City|               State|     Product ID|       Category|Sub-Category|        Product Name|             Sales|Quantity|Discount|             Profit|\n",
      "+------+---------------+----------+----------+--------------+-----------+----------------+-------------+--------------------+---------------+---------------+------------+--------------------+------------------+--------+--------+-------------------+\n",
      "|     1|ES-2018-1311038|2018-02-07|2018-02-11|Standard Class|   AS-10045|  Aaron Smayling|        Leeds|             England|OFF-ST-10000988|Office Supplies|     Storage|Fellowes Folders,...| 79.19999999999999|       3|     0.0|               39.6|\n",
      "|     2|ES-2018-1311038|2018-02-07|2018-02-11|Standard Class|   AS-10045|  Aaron Smayling|        Leeds|             England|TEC-AC-10004144|     Technology| Accessories|SanDisk Numeric K...| 388.9200000000001|       7|     0.0|                0.0|\n",
      "|     3|ES-2018-1311038|2018-02-07|2018-02-11|Standard Class|   AS-10045|  Aaron Smayling|        Leeds|             England|OFF-LA-10001915|Office Supplies|      Labels|Avery Legal Exhib...|             35.19|       3|     0.0|              16.11|\n",
      "|     4|ES-2018-1311038|2018-02-07|2018-02-11|Standard Class|   AS-10045|  Aaron Smayling|        Leeds|             England|OFF-ST-10004550|Office Supplies|     Storage|Fellowes Folders,...| 50.93999999999999|       2|     0.0| 13.200000000000001|\n",
      "|     5|ES-2018-1311038|2018-02-07|2018-02-11|Standard Class|   AS-10045|  Aaron Smayling|        Leeds|             England|TEC-AC-10004068|     Technology| Accessories|Memorex Memory Ca...|307.43999999999994|       3|     0.0|  73.71000000000001|\n",
      "|     6|ES-2018-1311038|2018-02-07|2018-02-11|Standard Class|   AS-10045|  Aaron Smayling|        Leeds|             England|OFF-ST-10002271|Office Supplies|     Storage|Rogers Shelving, ...|122.39999999999999|       2|     0.0|              37.92|\n",
      "|     7|ES-2018-1311038|2018-02-07|2018-02-11|Standard Class|   AS-10045|  Aaron Smayling|        Leeds|             England|TEC-PH-10003963|     Technology|      Phones|Apple Signal Boos...|            413.82|       3|     0.0|              20.61|\n",
      "|     8|ES-2016-5113958|2016-08-02|2016-08-07|  Second Class|   EB-13840|   Ellis Ballard|West Bromwich|             England|TEC-CO-10004325|     Technology|     Copiers|Canon Personal Co...|            428.22|       3|     0.0|             192.69|\n",
      "|     9|ES-2016-5113958|2016-08-02|2016-08-07|  Second Class|   EB-13840|   Ellis Ballard|West Bromwich|             England|OFF-AP-10004512|Office Supplies|  Appliances|   Hoover Stove, Red|           3979.29|       7|     0.0| 1989.5399999999997|\n",
      "|    10|ES-2016-5113958|2016-08-02|2016-08-07|  Second Class|   EB-13840|   Ellis Ballard|West Bromwich|             England|OFF-FA-10002393|Office Supplies|   Fasteners|Accos Push Pins, ...|             43.56|       3|     0.0| 12.599999999999998|\n",
      "|    11|ES-2016-2510515|2016-06-20|2016-06-20|      Same Day|   LH-17155|Logan Haushalter|   Le Bouscat|Aquitaine-Limousi...|OFF-LA-10002805|Office Supplies|      Labels|Hon Color Coded L...|25.259999999999998|       2|     0.0|               0.48|\n",
      "|    12|ES-2016-2510515|2016-06-20|2016-06-20|      Same Day|   LH-17155|Logan Haushalter|   Le Bouscat|Aquitaine-Limousi...|OFF-AP-10002330|Office Supplies|  Appliances|Hamilton Beach St...|          2443.905|       5|     0.1|  760.3049999999998|\n",
      "|    13|ES-2016-2510515|2016-06-20|2016-06-20|      Same Day|   LH-17155|Logan Haushalter|   Le Bouscat|Aquitaine-Limousi...|OFF-AR-10000505|Office Supplies|         Art|Binney & Smith Pe...|             12.21|       1|     0.0|                0.0|\n",
      "|    14|ES-2016-2510515|2016-06-20|2016-06-20|      Same Day|   LH-17155|Logan Haushalter|   Le Bouscat|Aquitaine-Limousi...|TEC-PH-10002898|     Technology|      Phones|Samsung Smart Pho...|2167.2960000000003|       4|    0.15|  790.4159999999999|\n",
      "|    15|ES-2016-2510515|2016-06-20|2016-06-20|      Same Day|   LH-17155|Logan Haushalter|   Le Bouscat|Aquitaine-Limousi...|OFF-ST-10001413|Office Supplies|     Storage|Rogers Folders, Blue|           138.105|       5|     0.1|-12.344999999999999|\n",
      "|    16|ES-2017-4380115|2017-02-16|2017-02-20|Standard Class|   KC-16540| Kelly Collister|   Strasbourg|Alsace-Champagne-...|OFF-ST-10003931|Office Supplies|     Storage|Smead Trays, Wire...|           128.385|       3|     0.1|  4.274999999999999|\n",
      "|    17|ES-2017-4380115|2017-02-16|2017-02-20|Standard Class|   KC-16540| Kelly Collister|   Strasbourg|Alsace-Champagne-...|TEC-AC-10004269|     Technology| Accessories|Belkin Memory Car...| 690.1199999999999|       6|     0.0|                0.0|\n",
      "|    18|ES-2017-4380115|2017-02-16|2017-02-20|Standard Class|   KC-16540| Kelly Collister|   Strasbourg|Alsace-Champagne-...|OFF-LA-10001676|Office Supplies|      Labels|Hon Removable Lab...|              8.16|       1|     0.0| 1.1400000000000001|\n",
      "|    19|ES-2018-2573330|2018-11-03|2018-11-08|Standard Class|   BF-11170|      Ben Ferrer|         Unna|North Rhine-Westp...|TEC-MA-10000811|     Technology|    Machines|Okidata Phone, Du...|            347.88|       4|     0.0|              76.44|\n",
      "|    20|ES-2018-2573330|2018-11-03|2018-11-08|Standard Class|   BF-11170|      Ben Ferrer|         Unna|North Rhine-Westp...|OFF-ST-10000648|Office Supplies|     Storage|Eldon File Cart, ...| 575.5050000000001|       5|     0.1| 12.704999999999998|\n",
      "+------+---------------+----------+----------+--------------+-----------+----------------+-------------+--------------------+---------------+---------------+------------+--------------------+------------------+--------+--------+-------------------+\n",
      "only showing top 20 rows\n",
      "\n"
     ]
    }
   ],
   "source": [
    "df.show()"
   ]
  },
  {
   "cell_type": "code",
   "execution_count": 207,
   "id": "dc14bdd7",
   "metadata": {},
   "outputs": [],
   "source": [
    "df = spark.read.option(\"header\",\"true\").csv(\"/home/julian/Python_course/Data_Manipulation_Techniques/Sample - EU Superstore.csv\")"
   ]
  },
  {
   "cell_type": "code",
   "execution_count": 208,
   "id": "54fff8ae",
   "metadata": {},
   "outputs": [
    {
     "name": "stdout",
     "output_type": "stream",
     "text": [
      "root\n",
      " |-- Row ID: string (nullable = true)\n",
      " |-- Order ID: string (nullable = true)\n",
      " |-- Order Date: string (nullable = true)\n",
      " |-- Ship Date: string (nullable = true)\n",
      " |-- Ship Mode: string (nullable = true)\n",
      " |-- Customer ID: string (nullable = true)\n",
      " |-- Customer Name: string (nullable = true)\n",
      " |-- Segment: string (nullable = true)\n",
      " |-- City: string (nullable = true)\n",
      " |-- State: string (nullable = true)\n",
      " |-- Country: string (nullable = true)\n",
      " |-- Region: string (nullable = true)\n",
      " |-- Product ID: string (nullable = true)\n",
      " |-- Category: string (nullable = true)\n",
      " |-- Sub-Category: string (nullable = true)\n",
      " |-- Product Name: string (nullable = true)\n",
      " |-- Sales: string (nullable = true)\n",
      " |-- Quantity: string (nullable = true)\n",
      " |-- Discount: string (nullable = true)\n",
      " |-- Profit: string (nullable = true)\n",
      "\n"
     ]
    }
   ],
   "source": [
    "df.printSchema()"
   ]
  },
  {
   "cell_type": "code",
   "execution_count": 209,
   "id": "15e50d0a",
   "metadata": {},
   "outputs": [
    {
     "name": "stdout",
     "output_type": "stream",
     "text": [
      "+--------------+\n",
      "|       Country|\n",
      "+--------------+\n",
      "|United Kingdom|\n",
      "|United Kingdom|\n",
      "|United Kingdom|\n",
      "|United Kingdom|\n",
      "|United Kingdom|\n",
      "|United Kingdom|\n",
      "|United Kingdom|\n",
      "|United Kingdom|\n",
      "|United Kingdom|\n",
      "|United Kingdom|\n",
      "|        France|\n",
      "|        France|\n",
      "|        France|\n",
      "|        France|\n",
      "|        France|\n",
      "|        France|\n",
      "|        France|\n",
      "|        France|\n",
      "|       Germany|\n",
      "|       Germany|\n",
      "+--------------+\n",
      "only showing top 20 rows\n",
      "\n"
     ]
    }
   ],
   "source": [
    "# In order to get only a column we use the select method\n",
    "\n",
    "df.select(\"Country\").show()"
   ]
  },
  {
   "cell_type": "code",
   "execution_count": 210,
   "id": "953d0aa6",
   "metadata": {},
   "outputs": [],
   "source": [
    "data = df.select(\"Country\",'City','Customer name')"
   ]
  },
  {
   "cell_type": "code",
   "execution_count": 211,
   "id": "439301eb",
   "metadata": {},
   "outputs": [
    {
     "name": "stdout",
     "output_type": "stream",
     "text": [
      "+--------------+-------------+----------------+\n",
      "|       Country|         City|   Customer name|\n",
      "+--------------+-------------+----------------+\n",
      "|United Kingdom|        Leeds|  Aaron Smayling|\n",
      "|United Kingdom|        Leeds|  Aaron Smayling|\n",
      "|United Kingdom|        Leeds|  Aaron Smayling|\n",
      "|United Kingdom|        Leeds|  Aaron Smayling|\n",
      "|United Kingdom|        Leeds|  Aaron Smayling|\n",
      "|United Kingdom|        Leeds|  Aaron Smayling|\n",
      "|United Kingdom|        Leeds|  Aaron Smayling|\n",
      "|United Kingdom|West Bromwich|   Ellis Ballard|\n",
      "|United Kingdom|West Bromwich|   Ellis Ballard|\n",
      "|United Kingdom|West Bromwich|   Ellis Ballard|\n",
      "|        France|   Le Bouscat|Logan Haushalter|\n",
      "|        France|   Le Bouscat|Logan Haushalter|\n",
      "|        France|   Le Bouscat|Logan Haushalter|\n",
      "|        France|   Le Bouscat|Logan Haushalter|\n",
      "|        France|   Le Bouscat|Logan Haushalter|\n",
      "|        France|   Strasbourg| Kelly Collister|\n",
      "|        France|   Strasbourg| Kelly Collister|\n",
      "|        France|   Strasbourg| Kelly Collister|\n",
      "|       Germany|         Unna|      Ben Ferrer|\n",
      "|       Germany|         Unna|      Ben Ferrer|\n",
      "+--------------+-------------+----------------+\n",
      "only showing top 20 rows\n",
      "\n"
     ]
    }
   ],
   "source": [
    "data.show()"
   ]
  },
  {
   "cell_type": "code",
   "execution_count": 212,
   "id": "594fd1cb",
   "metadata": {},
   "outputs": [
    {
     "data": {
      "text/plain": [
       "list"
      ]
     },
     "execution_count": 212,
     "metadata": {},
     "output_type": "execute_result"
    }
   ],
   "source": [
    "type(df.columns)"
   ]
  },
  {
   "cell_type": "code",
   "execution_count": 213,
   "id": "b9663cc8",
   "metadata": {},
   "outputs": [],
   "source": [
    "columns = df.columns"
   ]
  },
  {
   "cell_type": "code",
   "execution_count": 214,
   "id": "704a9302",
   "metadata": {},
   "outputs": [
    {
     "data": {
      "text/plain": [
       "['Row ID',\n",
       " 'Order ID',\n",
       " 'Order Date',\n",
       " 'Ship Date',\n",
       " 'Ship Mode',\n",
       " 'Customer ID',\n",
       " 'Customer Name',\n",
       " 'Segment',\n",
       " 'City',\n",
       " 'State',\n",
       " 'Country',\n",
       " 'Region',\n",
       " 'Product ID',\n",
       " 'Category',\n",
       " 'Sub-Category',\n",
       " 'Product Name',\n",
       " 'Sales',\n",
       " 'Quantity',\n",
       " 'Discount',\n",
       " 'Profit']"
      ]
     },
     "execution_count": 214,
     "metadata": {},
     "output_type": "execute_result"
    }
   ],
   "source": [
    "columns"
   ]
  },
  {
   "cell_type": "code",
   "execution_count": 215,
   "id": "1d9665a0",
   "metadata": {},
   "outputs": [
    {
     "name": "stdout",
     "output_type": "stream",
     "text": [
      "+------+---------------+----------+----------+\n",
      "|Row ID|       Order ID|Order Date| Ship Date|\n",
      "+------+---------------+----------+----------+\n",
      "|     1|ES-2018-1311038|2018-02-07|2018-02-11|\n",
      "|     2|ES-2018-1311038|2018-02-07|2018-02-11|\n",
      "|     3|ES-2018-1311038|2018-02-07|2018-02-11|\n",
      "|     4|ES-2018-1311038|2018-02-07|2018-02-11|\n",
      "|     5|ES-2018-1311038|2018-02-07|2018-02-11|\n",
      "|     6|ES-2018-1311038|2018-02-07|2018-02-11|\n",
      "|     7|ES-2018-1311038|2018-02-07|2018-02-11|\n",
      "|     8|ES-2016-5113958|2016-08-02|2016-08-07|\n",
      "|     9|ES-2016-5113958|2016-08-02|2016-08-07|\n",
      "|    10|ES-2016-5113958|2016-08-02|2016-08-07|\n",
      "|    11|ES-2016-2510515|2016-06-20|2016-06-20|\n",
      "|    12|ES-2016-2510515|2016-06-20|2016-06-20|\n",
      "|    13|ES-2016-2510515|2016-06-20|2016-06-20|\n",
      "|    14|ES-2016-2510515|2016-06-20|2016-06-20|\n",
      "|    15|ES-2016-2510515|2016-06-20|2016-06-20|\n",
      "|    16|ES-2017-4380115|2017-02-16|2017-02-20|\n",
      "|    17|ES-2017-4380115|2017-02-16|2017-02-20|\n",
      "|    18|ES-2017-4380115|2017-02-16|2017-02-20|\n",
      "|    19|ES-2018-2573330|2018-11-03|2018-11-08|\n",
      "|    20|ES-2018-2573330|2018-11-03|2018-11-08|\n",
      "+------+---------------+----------+----------+\n",
      "only showing top 20 rows\n",
      "\n"
     ]
    }
   ],
   "source": [
    "# We can combine the dynammic structure of getting a column of a dataframe with then indexing the list\n",
    "df.select(columns[:4]).show()"
   ]
  },
  {
   "cell_type": "code",
   "execution_count": 216,
   "id": "66bf6247",
   "metadata": {},
   "outputs": [
    {
     "data": {
      "text/plain": [
       "['Order Date', 'Ship Date']"
      ]
     },
     "execution_count": 216,
     "metadata": {},
     "output_type": "execute_result"
    }
   ],
   "source": [
    "# list comprehension - generating a list on the fly within a loop\n",
    "\n",
    "[col for col in columns if 'Date' in col]"
   ]
  },
  {
   "cell_type": "code",
   "execution_count": 217,
   "id": "b97d6b56",
   "metadata": {},
   "outputs": [
    {
     "name": "stdout",
     "output_type": "stream",
     "text": [
      "+----------+----------+\n",
      "|Order Date| Ship Date|\n",
      "+----------+----------+\n",
      "|2018-02-07|2018-02-11|\n",
      "|2018-02-07|2018-02-11|\n",
      "|2018-02-07|2018-02-11|\n",
      "|2018-02-07|2018-02-11|\n",
      "|2018-02-07|2018-02-11|\n",
      "|2018-02-07|2018-02-11|\n",
      "|2018-02-07|2018-02-11|\n",
      "|2016-08-02|2016-08-07|\n",
      "|2016-08-02|2016-08-07|\n",
      "|2016-08-02|2016-08-07|\n",
      "|2016-06-20|2016-06-20|\n",
      "|2016-06-20|2016-06-20|\n",
      "|2016-06-20|2016-06-20|\n",
      "|2016-06-20|2016-06-20|\n",
      "|2016-06-20|2016-06-20|\n",
      "|2017-02-16|2017-02-20|\n",
      "|2017-02-16|2017-02-20|\n",
      "|2017-02-16|2017-02-20|\n",
      "|2018-11-03|2018-11-08|\n",
      "|2018-11-03|2018-11-08|\n",
      "+----------+----------+\n",
      "only showing top 20 rows\n",
      "\n"
     ]
    }
   ],
   "source": [
    "df.select([col for col in columns if 'Date' in col]).show()"
   ]
  },
  {
   "cell_type": "code",
   "execution_count": 218,
   "id": "61dbf5b0",
   "metadata": {},
   "outputs": [
    {
     "data": {
      "text/plain": [
       "DataFrame[Row ID: string, Order ID: string, Order Date: string, Ship Date: string, Ship Mode: string, Customer ID: string, Customer Name: string, Segment: string, City: string, State: string, Country: string, Region: string, Product ID: string, Category: string, Sub-Category: string, Product Name: string, Sales: string, Quantity: string, Discount: string, Profit: string]"
      ]
     },
     "execution_count": 218,
     "metadata": {},
     "output_type": "execute_result"
    }
   ],
   "source": [
    "# We can also use Regex\n",
    "\n",
    "df.select(\"*\")"
   ]
  },
  {
   "cell_type": "code",
   "execution_count": 219,
   "id": "1a39f05b",
   "metadata": {},
   "outputs": [
    {
     "data": {
      "text/plain": [
       "DataFrame[Row ID: string, Order ID: string, Order Date: string, Ship Date: string, Ship Mode: string, Customer ID: string, Customer Name: string, Segment: string, City: string, State: string, Country: string, Region: string, Product ID: string, Category: string, Sub-Category: string, Product Name: string, Sales: string, Quantity: string, Discount: string, Profit: string]"
      ]
     },
     "execution_count": 219,
     "metadata": {},
     "output_type": "execute_result"
    }
   ],
   "source": [
    "df"
   ]
  },
  {
   "cell_type": "code",
   "execution_count": 220,
   "id": "d8d5ade9",
   "metadata": {},
   "outputs": [],
   "source": [
    "# if we want to get the unique values of a column"
   ]
  },
  {
   "cell_type": "code",
   "execution_count": 221,
   "id": "3b1c8d77",
   "metadata": {},
   "outputs": [],
   "source": [
    "unique_countries = df.select('Country').distinct()"
   ]
  },
  {
   "cell_type": "code",
   "execution_count": 222,
   "id": "dbc36b82",
   "metadata": {
    "scrolled": true
   },
   "outputs": [
    {
     "name": "stdout",
     "output_type": "stream",
     "text": [
      "+--------------+\n",
      "|       Country|\n",
      "+--------------+\n",
      "|        Sweden|\n",
      "|       Germany|\n",
      "|        France|\n",
      "|       Belgium|\n",
      "|       Finland|\n",
      "|         Italy|\n",
      "|        Norway|\n",
      "|         Spain|\n",
      "|       Denmark|\n",
      "|       Ireland|\n",
      "|   Switzerland|\n",
      "|      Portugal|\n",
      "|       Austria|\n",
      "|United Kingdom|\n",
      "|   Netherlands|\n",
      "+--------------+\n",
      "\n"
     ]
    }
   ],
   "source": [
    "unique_countries.show()"
   ]
  },
  {
   "cell_type": "code",
   "execution_count": 223,
   "id": "97b2efa4",
   "metadata": {},
   "outputs": [
    {
     "data": {
      "text/plain": [
       "DataFrame[Country: string]"
      ]
     },
     "execution_count": 223,
     "metadata": {},
     "output_type": "execute_result"
    }
   ],
   "source": [
    "unique_countries"
   ]
  },
  {
   "cell_type": "code",
   "execution_count": 224,
   "id": "e974cf1c",
   "metadata": {},
   "outputs": [
    {
     "data": {
      "text/plain": [
       "15"
      ]
     },
     "execution_count": 224,
     "metadata": {},
     "output_type": "execute_result"
    }
   ],
   "source": [
    "unique_countries.count()"
   ]
  },
  {
   "cell_type": "code",
   "execution_count": 225,
   "id": "701c3edf",
   "metadata": {},
   "outputs": [
    {
     "name": "stdout",
     "output_type": "stream",
     "text": [
      "+-----------+\n",
      "|    Segment|\n",
      "+-----------+\n",
      "|   Consumer|\n",
      "|Home Office|\n",
      "|  Corporate|\n",
      "+-----------+\n",
      "\n"
     ]
    }
   ],
   "source": [
    "# unique number of segments\n",
    "\n",
    "df.select('Segment').distinct().show()"
   ]
  },
  {
   "cell_type": "code",
   "execution_count": 226,
   "id": "ea5a74d0",
   "metadata": {},
   "outputs": [
    {
     "data": {
      "text/plain": [
       "Column<'(Country = Portugal)'>"
      ]
     },
     "execution_count": 226,
     "metadata": {},
     "output_type": "execute_result"
    }
   ],
   "source": [
    "# How can we apply filtering conditions on our spark dataframe\n",
    "\n",
    "df['Country'] == 'Portugal'"
   ]
  },
  {
   "cell_type": "code",
   "execution_count": 227,
   "id": "2f5a87e0",
   "metadata": {},
   "outputs": [
    {
     "data": {
      "text/plain": [
       "DataFrame[Row ID: string, Order ID: string, Order Date: string, Ship Date: string, Ship Mode: string, Customer ID: string, Customer Name: string, Segment: string, City: string, State: string, Country: string, Region: string, Product ID: string, Category: string, Sub-Category: string, Product Name: string, Sales: string, Quantity: string, Discount: string, Profit: string]"
      ]
     },
     "execution_count": 227,
     "metadata": {},
     "output_type": "execute_result"
    }
   ],
   "source": [
    "df.filter(df['Country'] == 'Portugal')"
   ]
  },
  {
   "cell_type": "code",
   "execution_count": 228,
   "id": "2401e9a6",
   "metadata": {},
   "outputs": [
    {
     "data": {
      "text/plain": [
       "70"
      ]
     },
     "execution_count": 228,
     "metadata": {},
     "output_type": "execute_result"
    }
   ],
   "source": [
    "df.filter(df['Country'] == 'Portugal').count()"
   ]
  },
  {
   "cell_type": "code",
   "execution_count": 229,
   "id": "d856ad07",
   "metadata": {},
   "outputs": [
    {
     "data": {
      "text/plain": [
       "Column<'(Country IN (Portugal, Spain))'>"
      ]
     },
     "execution_count": 229,
     "metadata": {},
     "output_type": "execute_result"
    }
   ],
   "source": [
    "# Simple filtering function\n",
    "\n",
    "df['Country'].isin(['Portugal','Spain'])"
   ]
  },
  {
   "cell_type": "code",
   "execution_count": 230,
   "id": "d3e97727",
   "metadata": {},
   "outputs": [],
   "source": [
    "# We now pass this through the filter method\n",
    "\n",
    "iberia_df = df.filter(df['Country'].isin(['Portugal','Spain']))"
   ]
  },
  {
   "cell_type": "code",
   "execution_count": 231,
   "id": "1e3af5ba",
   "metadata": {},
   "outputs": [
    {
     "data": {
      "text/plain": [
       "929"
      ]
     },
     "execution_count": 231,
     "metadata": {},
     "output_type": "execute_result"
    }
   ],
   "source": [
    "iberia_df.count()"
   ]
  },
  {
   "cell_type": "code",
   "execution_count": 232,
   "id": "a09ae51d",
   "metadata": {},
   "outputs": [
    {
     "data": {
      "text/plain": [
       "929"
      ]
     },
     "execution_count": 232,
     "metadata": {},
     "output_type": "execute_result"
    }
   ],
   "source": [
    "# and condition -> & and or conditions -> |\n",
    "\n",
    "df.filter((df['Country'] == 'Portugal') | (df['Country'] == 'Spain')).count()"
   ]
  },
  {
   "cell_type": "code",
   "execution_count": 233,
   "id": "5b819614",
   "metadata": {},
   "outputs": [
    {
     "data": {
      "text/plain": [
       "269"
      ]
     },
     "execution_count": 233,
     "metadata": {},
     "output_type": "execute_result"
    }
   ],
   "source": [
    "df.filter((df['Segment'] == 'Corporate') & (df['Country'] == 'Spain')).count()"
   ]
  },
  {
   "cell_type": "code",
   "execution_count": 234,
   "id": "f2cfa4be",
   "metadata": {},
   "outputs": [
    {
     "data": {
      "text/plain": [
       "7569"
      ]
     },
     "execution_count": 234,
     "metadata": {},
     "output_type": "execute_result"
    }
   ],
   "source": [
    "df.filter(df['Profit'] > 0).count()"
   ]
  },
  {
   "cell_type": "code",
   "execution_count": 235,
   "id": "a697876c",
   "metadata": {},
   "outputs": [
    {
     "ename": "TypeError",
     "evalue": "'DataFrame' object does not support item assignment",
     "output_type": "error",
     "traceback": [
      "\u001b[0;31m---------------------------------------------------------------------------\u001b[0m",
      "\u001b[0;31mTypeError\u001b[0m                                 Traceback (most recent call last)",
      "\u001b[0;32m/tmp/ipykernel_4239/2631688038.py\u001b[0m in \u001b[0;36m<module>\u001b[0;34m\u001b[0m\n\u001b[1;32m      2\u001b[0m \u001b[0;34m\u001b[0m\u001b[0m\n\u001b[1;32m      3\u001b[0m \u001b[0;31m# the pandas way\u001b[0m\u001b[0;34m\u001b[0m\u001b[0;34m\u001b[0m\u001b[0m\n\u001b[0;32m----> 4\u001b[0;31m \u001b[0mdf\u001b[0m\u001b[0;34m[\u001b[0m\u001b[0;34m'Cost'\u001b[0m\u001b[0;34m]\u001b[0m \u001b[0;34m=\u001b[0m \u001b[0mdf\u001b[0m\u001b[0;34m[\u001b[0m\u001b[0;34m'Sales'\u001b[0m\u001b[0;34m]\u001b[0m \u001b[0;34m-\u001b[0m \u001b[0mdf\u001b[0m\u001b[0;34m[\u001b[0m\u001b[0;34m'Profit'\u001b[0m\u001b[0;34m]\u001b[0m\u001b[0;34m\u001b[0m\u001b[0;34m\u001b[0m\u001b[0m\n\u001b[0m",
      "\u001b[0;31mTypeError\u001b[0m: 'DataFrame' object does not support item assignment"
     ]
    }
   ],
   "source": [
    "# create new column\n",
    "\n",
    "# the pandas way\n",
    "df['Cost'] = df['Sales'] - df['Profit']"
   ]
  },
  {
   "cell_type": "code",
   "execution_count": 236,
   "id": "ec7e9e0e",
   "metadata": {},
   "outputs": [],
   "source": [
    "# the withcolumn method declares a new column and the operation you would like to apply\n",
    "\n",
    "df = df.withColumn('Cost', df['Sales'] - df['Profit'])"
   ]
  },
  {
   "cell_type": "code",
   "execution_count": 237,
   "id": "173d1447",
   "metadata": {},
   "outputs": [
    {
     "name": "stdout",
     "output_type": "stream",
     "text": [
      "+------------------+-------------------+------------------+\n",
      "|              Cost|             Profit|             Sales|\n",
      "+------------------+-------------------+------------------+\n",
      "| 39.59999999999999|               39.6| 79.19999999999999|\n",
      "| 388.9200000000001|                0.0| 388.9200000000001|\n",
      "|             19.08|              16.11|             35.19|\n",
      "| 37.73999999999999| 13.200000000000001| 50.93999999999999|\n",
      "|233.72999999999993|  73.71000000000001|307.43999999999994|\n",
      "| 84.47999999999999|              37.92|122.39999999999999|\n",
      "|            393.21|              20.61|            413.82|\n",
      "|235.53000000000003|             192.69|            428.22|\n",
      "|1989.7500000000002| 1989.5399999999997|           3979.29|\n",
      "|30.960000000000004| 12.599999999999998|             43.56|\n",
      "|24.779999999999998|               0.48|25.259999999999998|\n",
      "|1683.6000000000004|  760.3049999999998|          2443.905|\n",
      "|             12.21|                0.0|             12.21|\n",
      "|1376.8800000000003|  790.4159999999999|2167.2960000000003|\n",
      "|            150.45|-12.344999999999999|           138.105|\n",
      "|124.10999999999999|  4.274999999999999|           128.385|\n",
      "| 690.1199999999999|                0.0| 690.1199999999999|\n",
      "|              7.02| 1.1400000000000001|              8.16|\n",
      "|            271.44|              76.44|            347.88|\n",
      "| 562.8000000000001| 12.704999999999998| 575.5050000000001|\n",
      "+------------------+-------------------+------------------+\n",
      "only showing top 20 rows\n",
      "\n"
     ]
    }
   ],
   "source": [
    "df.select('Cost','Profit','Sales').show()"
   ]
  },
  {
   "cell_type": "code",
   "execution_count": 238,
   "id": "eb991ab7",
   "metadata": {},
   "outputs": [],
   "source": [
    "# bring verything together -> create a new column with conditional statement\n",
    "\n",
    "from pyspark.sql.functions import when"
   ]
  },
  {
   "cell_type": "code",
   "execution_count": 239,
   "id": "100936c2",
   "metadata": {},
   "outputs": [
    {
     "data": {
      "text/plain": [
       "DataFrame[Row ID: string, Order ID: string, Order Date: string, Ship Date: string, Ship Mode: string, Customer ID: string, Customer Name: string, Segment: string, City: string, State: string, Country: string, Region: string, Product ID: string, Category: string, Sub-Category: string, Product Name: string, Sales: string, Quantity: string, Discount: string, Profit: string, Cost: double, Profitable Flag: string]"
      ]
     },
     "execution_count": 239,
     "metadata": {},
     "output_type": "execute_result"
    }
   ],
   "source": [
    "df.withColumn(\"Profitable Flag\", when(df.Profit >= 0, 'Profitable').when(df.Profit < 0, 'not profitable').\n",
    "              otherwise('Error'))"
   ]
  },
  {
   "cell_type": "code",
   "execution_count": 240,
   "id": "36687660",
   "metadata": {},
   "outputs": [],
   "source": [
    "df = df.withColumn(\"Profitable Flag\", \n",
    "              when(df.Profit >= 0, 'Profitable').\n",
    "              when(df.Profit < 0, 'not profitable').\n",
    "              when(df.Profit == 0, 'Zero' ).\n",
    "              otherwise('Error'))"
   ]
  },
  {
   "cell_type": "code",
   "execution_count": 241,
   "id": "cd991fea",
   "metadata": {},
   "outputs": [
    {
     "name": "stdout",
     "output_type": "stream",
     "text": [
      "+-------------------+---------------+\n",
      "|             Profit|Profitable Flag|\n",
      "+-------------------+---------------+\n",
      "|               39.6|     Profitable|\n",
      "|                0.0|     Profitable|\n",
      "|              16.11|     Profitable|\n",
      "| 13.200000000000001|     Profitable|\n",
      "|  73.71000000000001|     Profitable|\n",
      "|              37.92|     Profitable|\n",
      "|              20.61|     Profitable|\n",
      "|             192.69|     Profitable|\n",
      "| 1989.5399999999997|     Profitable|\n",
      "| 12.599999999999998|     Profitable|\n",
      "|               0.48|     Profitable|\n",
      "|  760.3049999999998|     Profitable|\n",
      "|                0.0|     Profitable|\n",
      "|  790.4159999999999|     Profitable|\n",
      "|-12.344999999999999| not profitable|\n",
      "|  4.274999999999999|     Profitable|\n",
      "|                0.0|     Profitable|\n",
      "| 1.1400000000000001|     Profitable|\n",
      "|              76.44|     Profitable|\n",
      "| 12.704999999999998|     Profitable|\n",
      "+-------------------+---------------+\n",
      "only showing top 20 rows\n",
      "\n"
     ]
    }
   ],
   "source": [
    "df.select('Profit','Profitable Flag').show()"
   ]
  },
  {
   "cell_type": "code",
   "execution_count": 242,
   "id": "e54d4b0e",
   "metadata": {},
   "outputs": [
    {
     "data": {
      "text/plain": [
       "['Row ID',\n",
       " 'Order ID',\n",
       " 'Order Date',\n",
       " 'Ship Date',\n",
       " 'Ship Mode',\n",
       " 'Customer ID',\n",
       " 'Customer Name',\n",
       " 'Segment',\n",
       " 'City',\n",
       " 'State',\n",
       " 'Country',\n",
       " 'Region',\n",
       " 'Product ID',\n",
       " 'Category',\n",
       " 'Sub-Category',\n",
       " 'Product Name',\n",
       " 'Sales',\n",
       " 'Quantity',\n",
       " 'Discount',\n",
       " 'Profit',\n",
       " 'Cost',\n",
       " 'Profitable Flag']"
      ]
     },
     "execution_count": 242,
     "metadata": {},
     "output_type": "execute_result"
    }
   ],
   "source": [
    "# We want to analyze profit and figure out the driver of profit\n",
    "\n",
    "df.columns"
   ]
  },
  {
   "cell_type": "code",
   "execution_count": 243,
   "id": "d7cba248",
   "metadata": {},
   "outputs": [
    {
     "name": "stdout",
     "output_type": "stream",
     "text": [
      "+--------+\n",
      "|Discount|\n",
      "+--------+\n",
      "|     0.0|\n",
      "|     0.0|\n",
      "|     0.0|\n",
      "|     0.0|\n",
      "|     0.0|\n",
      "|     0.0|\n",
      "|     0.0|\n",
      "|     0.0|\n",
      "|     0.0|\n",
      "|     0.0|\n",
      "|     0.0|\n",
      "|     0.1|\n",
      "|     0.0|\n",
      "|    0.15|\n",
      "|     0.1|\n",
      "|     0.1|\n",
      "|     0.0|\n",
      "|     0.0|\n",
      "|     0.0|\n",
      "|     0.1|\n",
      "+--------+\n",
      "only showing top 20 rows\n",
      "\n"
     ]
    }
   ],
   "source": [
    "df.select('Discount').show()"
   ]
  },
  {
   "cell_type": "code",
   "execution_count": 244,
   "id": "68ea1252",
   "metadata": {},
   "outputs": [],
   "source": [
    "# in how many rows was the discount zero"
   ]
  },
  {
   "cell_type": "code",
   "execution_count": 245,
   "id": "5daebcec",
   "metadata": {},
   "outputs": [
    {
     "name": "stdout",
     "output_type": "stream",
     "text": [
      "6134\n"
     ]
    }
   ],
   "source": [
    "non_zero_discount = df.filter(df['Discount'] == 0.0).count()\n",
    "\n",
    "print(non_zero_discount)"
   ]
  },
  {
   "cell_type": "code",
   "execution_count": 246,
   "id": "cf6041b7",
   "metadata": {},
   "outputs": [],
   "source": [
    "# Does discount impact profit in general "
   ]
  },
  {
   "cell_type": "code",
   "execution_count": 247,
   "id": "f920dba8",
   "metadata": {},
   "outputs": [
    {
     "data": {
      "text/plain": [
       "6134"
      ]
     },
     "execution_count": 247,
     "metadata": {},
     "output_type": "execute_result"
    }
   ],
   "source": [
    "df.filter((df['Discount'] == 0.0) & (df['Profit']>=0)).count()"
   ]
  },
  {
   "cell_type": "code",
   "execution_count": 248,
   "id": "78b70d13",
   "metadata": {},
   "outputs": [
    {
     "data": {
      "text/plain": [
       "1874"
      ]
     },
     "execution_count": 248,
     "metadata": {},
     "output_type": "execute_result"
    }
   ],
   "source": [
    "df.filter((df['Discount'] != 0.0) & (df['Profit']>=0)).count()"
   ]
  },
  {
   "cell_type": "code",
   "execution_count": 249,
   "id": "ffe6aafc",
   "metadata": {},
   "outputs": [],
   "source": [
    "losses_with_discount = df.filter((df['Discount'] != 0.0) & (df['Profit']<0)).count()"
   ]
  },
  {
   "cell_type": "code",
   "execution_count": 250,
   "id": "46119d29",
   "metadata": {},
   "outputs": [],
   "source": [
    "total_with_discount = df.filter(df['Discount'] != 0.0).count()"
   ]
  },
  {
   "cell_type": "code",
   "execution_count": 251,
   "id": "96e3e186",
   "metadata": {},
   "outputs": [
    {
     "data": {
      "text/plain": [
       "0.5152612519399896"
      ]
     },
     "execution_count": 251,
     "metadata": {},
     "output_type": "execute_result"
    }
   ],
   "source": [
    "losses_with_discount / total_with_discount"
   ]
  },
  {
   "cell_type": "code",
   "execution_count": 252,
   "id": "d165017f",
   "metadata": {},
   "outputs": [
    {
     "data": {
      "text/plain": [
       "DataFrame[Country: string, count: bigint]"
      ]
     },
     "execution_count": 252,
     "metadata": {},
     "output_type": "execute_result"
    }
   ],
   "source": [
    "# groupby and aggregations\n",
    "# We need to state the column and the aggregation function\n",
    "\n",
    "df.groupBy(\"Country\").count()"
   ]
  },
  {
   "cell_type": "code",
   "execution_count": 253,
   "id": "a2cd4faf",
   "metadata": {},
   "outputs": [
    {
     "name": "stdout",
     "output_type": "stream",
     "text": [
      "+--------------+-----+\n",
      "|       Country|count|\n",
      "+--------------+-----+\n",
      "|        Sweden|  203|\n",
      "|       Germany| 2065|\n",
      "|        France| 2827|\n",
      "|       Belgium|  147|\n",
      "|       Finland|   64|\n",
      "|         Italy| 1108|\n",
      "|        Norway|   70|\n",
      "|         Spain|  859|\n",
      "|       Denmark|   65|\n",
      "|       Ireland|  106|\n",
      "|   Switzerland|   78|\n",
      "|      Portugal|   70|\n",
      "|       Austria|  270|\n",
      "|United Kingdom| 1633|\n",
      "|   Netherlands|  435|\n",
      "+--------------+-----+\n",
      "\n"
     ]
    }
   ],
   "source": [
    "df.groupBy(\"Country\").count().show()"
   ]
  },
  {
   "cell_type": "code",
   "execution_count": 254,
   "id": "8ec23888",
   "metadata": {},
   "outputs": [
    {
     "name": "stdout",
     "output_type": "stream",
     "text": [
      "+--------------+-----+\n",
      "|       Country|count|\n",
      "+--------------+-----+\n",
      "|        France| 2827|\n",
      "|       Germany| 2065|\n",
      "|United Kingdom| 1633|\n",
      "|         Italy| 1108|\n",
      "|         Spain|  859|\n",
      "|   Netherlands|  435|\n",
      "|       Austria|  270|\n",
      "|        Sweden|  203|\n",
      "|       Belgium|  147|\n",
      "|       Ireland|  106|\n",
      "|   Switzerland|   78|\n",
      "|        Norway|   70|\n",
      "|      Portugal|   70|\n",
      "|       Denmark|   65|\n",
      "|       Finland|   64|\n",
      "+--------------+-----+\n",
      "\n"
     ]
    }
   ],
   "source": [
    "df.groupBy(\"Country\").count().orderBy('count', ascending=False).show()"
   ]
  },
  {
   "cell_type": "code",
   "execution_count": 255,
   "id": "9ea28216",
   "metadata": {},
   "outputs": [
    {
     "name": "stdout",
     "output_type": "stream",
     "text": [
      "+--------------+-----+\n",
      "|       Country|count|\n",
      "+--------------+-----+\n",
      "|       Austria|  270|\n",
      "|       Belgium|  147|\n",
      "|       Denmark|   65|\n",
      "|       Finland|   64|\n",
      "|        France| 2827|\n",
      "|       Germany| 2065|\n",
      "|       Ireland|  106|\n",
      "|         Italy| 1108|\n",
      "|   Netherlands|  435|\n",
      "|        Norway|   70|\n",
      "|      Portugal|   70|\n",
      "|         Spain|  859|\n",
      "|        Sweden|  203|\n",
      "|   Switzerland|   78|\n",
      "|United Kingdom| 1633|\n",
      "+--------------+-----+\n",
      "\n"
     ]
    }
   ],
   "source": [
    "df.groupBy(\"Country\").count().orderBy('Country', ascending=True).show()"
   ]
  },
  {
   "cell_type": "code",
   "execution_count": 256,
   "id": "7b164024",
   "metadata": {},
   "outputs": [
    {
     "name": "stdout",
     "output_type": "stream",
     "text": [
      "+--------------+-----------+---------------+-----+\n",
      "|       Country|    Segment|       Category|count|\n",
      "+--------------+-----------+---------------+-----+\n",
      "|      Portugal|   Consumer|      Furniture|    6|\n",
      "|       Belgium|Home Office|     Technology|    3|\n",
      "|       Belgium|Home Office|      Furniture|    3|\n",
      "|        France|   Consumer|     Technology|  276|\n",
      "|        Norway|   Consumer|     Technology|    9|\n",
      "|       Finland|  Corporate|Office Supplies|    9|\n",
      "|       Finland|   Consumer|     Technology|    8|\n",
      "|       Germany|   Consumer|Office Supplies|  727|\n",
      "|United Kingdom|  Corporate|     Technology|  105|\n",
      "|       Ireland|Home Office|     Technology|    6|\n",
      "|         Spain|   Consumer|     Technology|   85|\n",
      "|       Germany|Home Office|      Furniture|   64|\n",
      "|       Finland|   Consumer|Office Supplies|   24|\n",
      "|         Spain|  Corporate|      Furniture|   45|\n",
      "|      Portugal|   Consumer|Office Supplies|   33|\n",
      "|         Italy|  Corporate|Office Supplies|  247|\n",
      "|       Finland|   Consumer|      Furniture|    7|\n",
      "|United Kingdom|Home Office|Office Supplies|  200|\n",
      "|       Austria|Home Office|Office Supplies|   39|\n",
      "|       Austria|   Consumer|Office Supplies|   98|\n",
      "+--------------+-----------+---------------+-----+\n",
      "only showing top 20 rows\n",
      "\n"
     ]
    }
   ],
   "source": [
    "df.groupBy('Country','Segment','Category').count().show()#.orderBy('Country','Segment', ascending=True).show()"
   ]
  },
  {
   "cell_type": "code",
   "execution_count": 257,
   "id": "dfbc711f",
   "metadata": {},
   "outputs": [],
   "source": [
    "# our aggregation so far has only been a count ->> We can do better\n",
    "# max,sum,mean, median, min"
   ]
  },
  {
   "cell_type": "code",
   "execution_count": 258,
   "id": "fd3d4a6c",
   "metadata": {},
   "outputs": [
    {
     "data": {
      "text/plain": [
       "DataFrame[Country: string, sum(Sales): double]"
      ]
     },
     "execution_count": 258,
     "metadata": {},
     "output_type": "execute_result"
    }
   ],
   "source": [
    "df.groupBy('Country').agg({'Sales':'sum'})"
   ]
  },
  {
   "cell_type": "code",
   "execution_count": 259,
   "id": "3961e2ca",
   "metadata": {},
   "outputs": [
    {
     "name": "stdout",
     "output_type": "stream",
     "text": [
      "+--------------+------------------+\n",
      "|       Country|        sum(Sales)|\n",
      "+--------------+------------------+\n",
      "|        Sweden|30491.403000000002|\n",
      "|       Germany| 628840.0305000001|\n",
      "|        France|  858931.082999999|\n",
      "|       Belgium| 49226.70000000003|\n",
      "|       Finland|20704.350000000002|\n",
      "|         Italy|289709.65799999936|\n",
      "|        Norway|20525.370000000003|\n",
      "|         Spain| 287146.6800000003|\n",
      "|       Denmark| 8638.053000000002|\n",
      "|       Ireland|16639.508999999995|\n",
      "|   Switzerland|24877.860000000004|\n",
      "|      Portugal|          15105.12|\n",
      "|       Austria| 81162.00000000006|\n",
      "|United Kingdom| 528576.2999999992|\n",
      "|   Netherlands| 77514.94500000008|\n",
      "+--------------+------------------+\n",
      "\n"
     ]
    }
   ],
   "source": [
    "df.groupBy('Country').agg({'Sales':'sum'}).show()"
   ]
  },
  {
   "cell_type": "code",
   "execution_count": 260,
   "id": "4e4ffcdf",
   "metadata": {},
   "outputs": [
    {
     "name": "stdout",
     "output_type": "stream",
     "text": [
      "+--------------+------------------+\n",
      "|       Country|        min(Sales)|\n",
      "+--------------+------------------+\n",
      "|       Austria|            100.62|\n",
      "|       Belgium|             10.08|\n",
      "|       Denmark|10.709999999999999|\n",
      "|       Finland|100.44000000000001|\n",
      "|        France|             10.08|\n",
      "|       Germany|             10.08|\n",
      "|       Ireland|100.12500000000001|\n",
      "|         Italy|           100.152|\n",
      "|   Netherlands|10.004999999999999|\n",
      "|        Norway|            101.58|\n",
      "|      Portugal|121.49999999999999|\n",
      "|         Spain|             10.05|\n",
      "|        Sweden|10.379999999999999|\n",
      "|   Switzerland|           1054.68|\n",
      "|United Kingdom|             10.53|\n",
      "+--------------+------------------+\n",
      "\n"
     ]
    }
   ],
   "source": [
    "df.groupBy('Country').agg({'Sales':'min'}).show()"
   ]
  },
  {
   "cell_type": "code",
   "execution_count": 261,
   "id": "bc59f148",
   "metadata": {},
   "outputs": [
    {
     "data": {
      "text/plain": [
       "['Country', 'min(Sales)']"
      ]
     },
     "execution_count": 261,
     "metadata": {},
     "output_type": "execute_result"
    }
   ],
   "source": [
    "df.groupBy('Country').agg({'Sales':'min'}).columns"
   ]
  },
  {
   "cell_type": "code",
   "execution_count": 262,
   "id": "e7cafaee",
   "metadata": {},
   "outputs": [
    {
     "data": {
      "text/plain": [
       "DataFrame[Country: string, Sales: double]"
      ]
     },
     "execution_count": 262,
     "metadata": {},
     "output_type": "execute_result"
    }
   ],
   "source": [
    "df.groupBy('Country').agg({'Sales':'mean'}).withColumnRenamed('avg(Sales)','Sales')"
   ]
  },
  {
   "cell_type": "code",
   "execution_count": 263,
   "id": "2e79b7b0",
   "metadata": {},
   "outputs": [],
   "source": [
    "grouped_country = df.groupBy('Country').agg({'Sales':'mean'}).withColumnRenamed('avg(Sales)','Sales')"
   ]
  },
  {
   "cell_type": "code",
   "execution_count": 264,
   "id": "d7cc2511",
   "metadata": {},
   "outputs": [
    {
     "data": {
      "text/plain": [
       "DataFrame[Country: string, Sales: double]"
      ]
     },
     "execution_count": 264,
     "metadata": {},
     "output_type": "execute_result"
    }
   ],
   "source": [
    "import pyspark.sql.functions as func\n",
    "\n",
    "grouped_country"
   ]
  },
  {
   "cell_type": "code",
   "execution_count": 265,
   "id": "5460a24a",
   "metadata": {},
   "outputs": [
    {
     "name": "stdout",
     "output_type": "stream",
     "text": [
      "+--------------+------------------+-----------+\n",
      "|       Country|             Sales|Sales Clean|\n",
      "+--------------+------------------+-----------+\n",
      "|        Sweden|150.20395566502464|      150.2|\n",
      "|       Germany| 304.5230171912834|     304.52|\n",
      "|        France|303.83129925716275|     303.83|\n",
      "|       Belgium| 334.8755102040819|     334.88|\n",
      "|       Finland|323.50546875000003|     323.51|\n",
      "|         Italy| 261.4708104693135|     261.47|\n",
      "|        Norway|293.21957142857144|     293.22|\n",
      "|         Spain|334.28018626309694|     334.28|\n",
      "|       Denmark| 132.8931230769231|     132.89|\n",
      "|       Ireland|156.97649999999996|     156.98|\n",
      "|   Switzerland|318.94692307692316|     318.95|\n",
      "|      Portugal| 215.7874285714286|     215.79|\n",
      "|       Austria| 300.6000000000002|      300.6|\n",
      "|United Kingdom|323.68420085731736|     323.68|\n",
      "|   Netherlands|178.19527586206914|      178.2|\n",
      "+--------------+------------------+-----------+\n",
      "\n"
     ]
    }
   ],
   "source": [
    "grouped_country = grouped_country.withColumn(\"Sales Clean\",func.round(grouped_country['Sales'],2)).show()"
   ]
  },
  {
   "cell_type": "code",
   "execution_count": 266,
   "id": "bb9f4eac",
   "metadata": {},
   "outputs": [
    {
     "data": {
      "text/plain": [
       "DataFrame[Country: string, Segment: string, Category: string, sum(Sales): double, avg(Discount): double, sum(Profit): double]"
      ]
     },
     "execution_count": 266,
     "metadata": {},
     "output_type": "execute_result"
    }
   ],
   "source": [
    "df.groupBy(\"Country\",\"Segment\",\"Category\").agg({'Sales' : 'sum','Profit':'sum','Discount':'mean'})"
   ]
  },
  {
   "cell_type": "code",
   "execution_count": 267,
   "id": "231bcdb9",
   "metadata": {},
   "outputs": [],
   "source": [
    "grouped = df.groupBy(\"Country\",\"Segment\",\"Category\").agg({'Sales' : 'sum','Profit':'sum','Discount':'mean'})"
   ]
  },
  {
   "cell_type": "code",
   "execution_count": 268,
   "id": "cb708029",
   "metadata": {},
   "outputs": [
    {
     "name": "stdout",
     "output_type": "stream",
     "text": [
      "+--------------+-----------+---------------+------------------+--------------------+-------------------+\n",
      "|       Country|    Segment|       Category|        sum(Sales)|       avg(Discount)|        sum(Profit)|\n",
      "+--------------+-----------+---------------+------------------+--------------------+-------------------+\n",
      "|      Portugal|   Consumer|      Furniture|          1281.675|                 0.5|-295.42500000000007|\n",
      "|       Belgium|Home Office|     Technology|2370.3000000000006|                 0.0|            1003.02|\n",
      "|       Belgium|Home Office|      Furniture|1000.7399999999999|                 0.0|             327.45|\n",
      "|        France|   Consumer|     Technology|152364.03899999993|  0.1403985507246372| 12791.589000000009|\n",
      "|        Norway|   Consumer|     Technology|           3180.09|                 0.0|             432.75|\n",
      "|       Finland|  Corporate|Office Supplies|1120.3500000000001|                 0.0|             278.79|\n",
      "|       Finland|   Consumer|     Technology|           4468.68|                 0.0|  957.5699999999999|\n",
      "|       Germany|   Consumer|Office Supplies|118187.81099999989| 0.05364511691884475| 23707.191000000006|\n",
      "|United Kingdom|  Corporate|     Technology| 68470.07700000002|0.017142857142857147| 17156.067000000003|\n",
      "|       Ireland|Home Office|     Technology|           1906.53|                 0.5|-1205.8799999999999|\n",
      "|         Spain|   Consumer|     Technology| 52602.33900000002|0.050588235294117656|  9772.598999999995|\n",
      "|       Germany|Home Office|      Furniture| 35528.42100000001| 0.11171874999999996| 2076.3810000000008|\n",
      "|       Finland|   Consumer|Office Supplies|           4817.07|                 0.0|             903.12|\n",
      "|         Spain|  Corporate|      Furniture|20741.388000000003|0.048888888888888885|  316.8780000000003|\n",
      "|      Portugal|   Consumer|Office Supplies|          2679.165|                 0.5|          -1345.305|\n",
      "|         Italy|  Corporate|Office Supplies| 42710.18399999997| 0.07773279352226718|           8124.594|\n",
      "|       Finland|   Consumer|      Furniture|5987.7300000000005|                 0.0|             616.02|\n",
      "|United Kingdom|Home Office|Office Supplies|32845.829999999994| 0.05499999999999996| 7443.1200000000035|\n",
      "|       Austria|Home Office|Office Supplies| 6751.919999999998|                 0.0| 1683.4499999999998|\n",
      "|       Austria|   Consumer|Office Supplies|17451.629999999997|                 0.0|  4173.630000000001|\n",
      "+--------------+-----------+---------------+------------------+--------------------+-------------------+\n",
      "only showing top 20 rows\n",
      "\n"
     ]
    }
   ],
   "source": [
    "grouped.show()"
   ]
  },
  {
   "cell_type": "code",
   "execution_count": 269,
   "id": "befc0faa",
   "metadata": {},
   "outputs": [],
   "source": [
    "grouped = grouped.withColumnRenamed('sum(Sales)','Sales').withColumnRenamed('avg(Discount)','Discount')\\\n",
    "                    .withColumnRenamed('sum(Profit)','Profit')"
   ]
  },
  {
   "cell_type": "code",
   "execution_count": 270,
   "id": "414a07ff",
   "metadata": {},
   "outputs": [
    {
     "name": "stdout",
     "output_type": "stream",
     "text": [
      "+--------------+-----------+---------------+------------------+--------------------+-------------------+\n",
      "|       Country|    Segment|       Category|             Sales|            Discount|             Profit|\n",
      "+--------------+-----------+---------------+------------------+--------------------+-------------------+\n",
      "|      Portugal|   Consumer|      Furniture|          1281.675|                 0.5|-295.42500000000007|\n",
      "|       Belgium|Home Office|     Technology|2370.3000000000006|                 0.0|            1003.02|\n",
      "|       Belgium|Home Office|      Furniture|1000.7399999999999|                 0.0|             327.45|\n",
      "|        France|   Consumer|     Technology|152364.03899999993|  0.1403985507246372| 12791.589000000009|\n",
      "|        Norway|   Consumer|     Technology|           3180.09|                 0.0|             432.75|\n",
      "|       Finland|  Corporate|Office Supplies|1120.3500000000001|                 0.0|             278.79|\n",
      "|       Finland|   Consumer|     Technology|           4468.68|                 0.0|  957.5699999999999|\n",
      "|       Germany|   Consumer|Office Supplies|118187.81099999989| 0.05364511691884475| 23707.191000000006|\n",
      "|United Kingdom|  Corporate|     Technology| 68470.07700000002|0.017142857142857147| 17156.067000000003|\n",
      "|       Ireland|Home Office|     Technology|           1906.53|                 0.5|-1205.8799999999999|\n",
      "|         Spain|   Consumer|     Technology| 52602.33900000002|0.050588235294117656|  9772.598999999995|\n",
      "|       Germany|Home Office|      Furniture| 35528.42100000001| 0.11171874999999996| 2076.3810000000008|\n",
      "|       Finland|   Consumer|Office Supplies|           4817.07|                 0.0|             903.12|\n",
      "|         Spain|  Corporate|      Furniture|20741.388000000003|0.048888888888888885|  316.8780000000003|\n",
      "|      Portugal|   Consumer|Office Supplies|          2679.165|                 0.5|          -1345.305|\n",
      "|         Italy|  Corporate|Office Supplies| 42710.18399999997| 0.07773279352226718|           8124.594|\n",
      "|       Finland|   Consumer|      Furniture|5987.7300000000005|                 0.0|             616.02|\n",
      "|United Kingdom|Home Office|Office Supplies|32845.829999999994| 0.05499999999999996| 7443.1200000000035|\n",
      "|       Austria|Home Office|Office Supplies| 6751.919999999998|                 0.0| 1683.4499999999998|\n",
      "|       Austria|   Consumer|Office Supplies|17451.629999999997|                 0.0|  4173.630000000001|\n",
      "+--------------+-----------+---------------+------------------+--------------------+-------------------+\n",
      "only showing top 20 rows\n",
      "\n"
     ]
    }
   ],
   "source": [
    "grouped.show()"
   ]
  },
  {
   "cell_type": "code",
   "execution_count": 271,
   "id": "0c71d136",
   "metadata": {},
   "outputs": [],
   "source": [
    "grouped_country = df.groupBy(\"Country\").agg({\"Sales\":\"sum\"}).orderBy('sum(Sales)')"
   ]
  },
  {
   "cell_type": "code",
   "execution_count": 272,
   "id": "8902fd91",
   "metadata": {},
   "outputs": [],
   "source": [
    "# collect method returns all rows from all different executors into memory the collector at the central level"
   ]
  },
  {
   "cell_type": "code",
   "execution_count": 273,
   "id": "e0c3b255",
   "metadata": {},
   "outputs": [],
   "source": [
    "# it is fine(and a good idea) to use the collect method when the data is already grouped to few rows\n",
    "bottom_country_sales = grouped_country.collect()[0][0]"
   ]
  },
  {
   "cell_type": "code",
   "execution_count": 274,
   "id": "d9ab1d82",
   "metadata": {},
   "outputs": [
    {
     "data": {
      "text/plain": [
       "[Row(Country='Denmark', sum(Sales)=8638.053000000002),\n",
       " Row(Country='Portugal', sum(Sales)=15105.12),\n",
       " Row(Country='Ireland', sum(Sales)=16639.508999999995),\n",
       " Row(Country='Norway', sum(Sales)=20525.370000000003),\n",
       " Row(Country='Finland', sum(Sales)=20704.350000000002),\n",
       " Row(Country='Switzerland', sum(Sales)=24877.860000000004),\n",
       " Row(Country='Sweden', sum(Sales)=30491.403000000002),\n",
       " Row(Country='Belgium', sum(Sales)=49226.70000000003),\n",
       " Row(Country='Netherlands', sum(Sales)=77514.94500000008),\n",
       " Row(Country='Austria', sum(Sales)=81162.00000000006),\n",
       " Row(Country='Spain', sum(Sales)=287146.6800000003),\n",
       " Row(Country='Italy', sum(Sales)=289709.65799999936),\n",
       " Row(Country='United Kingdom', sum(Sales)=528576.2999999992),\n",
       " Row(Country='Germany', sum(Sales)=628840.0305000001),\n",
       " Row(Country='France', sum(Sales)=858931.082999999)]"
      ]
     },
     "execution_count": 274,
     "metadata": {},
     "output_type": "execute_result"
    }
   ],
   "source": [
    "grouped_country.collect()"
   ]
  },
  {
   "cell_type": "code",
   "execution_count": 275,
   "id": "ab602f29",
   "metadata": {},
   "outputs": [],
   "source": [
    "# show all the rows of the country which has the lowest sales"
   ]
  },
  {
   "cell_type": "code",
   "execution_count": 276,
   "id": "4c76bec6",
   "metadata": {},
   "outputs": [
    {
     "data": {
      "text/plain": [
       "DataFrame[Row ID: string, Order ID: string, Order Date: string, Ship Date: string, Ship Mode: string, Customer ID: string, Customer Name: string, Segment: string, City: string, State: string, Country: string, Region: string, Product ID: string, Category: string, Sub-Category: string, Product Name: string, Sales: string, Quantity: string, Discount: string, Profit: string, Cost: double, Profitable Flag: string]"
      ]
     },
     "execution_count": 276,
     "metadata": {},
     "output_type": "execute_result"
    }
   ],
   "source": [
    "df.filter(df['Country'] == bottom_country_sales)"
   ]
  },
  {
   "cell_type": "code",
   "execution_count": 277,
   "id": "49438e78",
   "metadata": {},
   "outputs": [],
   "source": [
    "# get all the rows for the bottom three countries by profit"
   ]
  },
  {
   "cell_type": "code",
   "execution_count": 278,
   "id": "34983ed1",
   "metadata": {},
   "outputs": [],
   "source": [
    "grouped_country = df.groupBy(\"Country\").agg({\"Profit\":\"sum\"}).orderBy('sum(Profit)').collect()[:3]"
   ]
  },
  {
   "cell_type": "code",
   "execution_count": 279,
   "id": "ffee1b65",
   "metadata": {
    "scrolled": true
   },
   "outputs": [
    {
     "data": {
      "text/plain": [
       "[Row(Country='Netherlands', sum(Profit)=-41070.07499999995),\n",
       " Row(Country='Sweden', sum(Profit)=-17519.366999999987),\n",
       " Row(Country='Portugal', sum(Profit)=-8703.06)]"
      ]
     },
     "execution_count": 279,
     "metadata": {},
     "output_type": "execute_result"
    }
   ],
   "source": [
    "grouped_country"
   ]
  },
  {
   "cell_type": "code",
   "execution_count": 280,
   "id": "57d97c03",
   "metadata": {},
   "outputs": [],
   "source": [
    "# list comprehension to get the name of the bottom 3\n",
    "\n",
    "bottom_countries = [row[0] for row in grouped_country]"
   ]
  },
  {
   "cell_type": "code",
   "execution_count": 281,
   "id": "d134a591",
   "metadata": {},
   "outputs": [
    {
     "name": "stdout",
     "output_type": "stream",
     "text": [
      "+------+---------------+----------+----------+--------------+-----------+----------------+-----------+-----------+-------------+-----------+-------+---------------+---------------+------------+--------------------+------------------+--------+--------+-------------------+------------------+---------------+\n",
      "|Row ID|       Order ID|Order Date| Ship Date|     Ship Mode|Customer ID|   Customer Name|    Segment|       City|        State|    Country| Region|     Product ID|       Category|Sub-Category|        Product Name|             Sales|Quantity|Discount|             Profit|              Cost|Profitable Flag|\n",
      "+------+---------------+----------+----------+--------------+-----------+----------------+-----------+-----------+-------------+-----------+-------+---------------+---------------+------------+--------------------+------------------+--------+--------+-------------------+------------------+---------------+\n",
      "|    41|IT-2017-2373016|2017-11-08|2017-11-11|   First Class|   CM-11830|  Cari MacIntyre|  Corporate|  The Hague|South Holland|Netherlands|Central|OFF-SU-10003907|Office Supplies|    Supplies|Stiletto Letter O...|              15.0|       1|     0.5|               -9.3|              24.3| not profitable|\n",
      "|    42|IT-2017-2373016|2017-11-08|2017-11-11|   First Class|   CM-11830|  Cari MacIntyre|  Corporate|  The Hague|South Holland|Netherlands|Central|OFF-BI-10001249|Office Supplies|     Binders|Acco Hole Reinfor...|             14.04|       4|     0.5|                0.0|             14.04|     Profitable|\n",
      "|    43|IT-2017-2373016|2017-11-08|2017-11-11|   First Class|   CM-11830|  Cari MacIntyre|  Corporate|  The Hague|South Holland|Netherlands|Central|OFF-AR-10000823|Office Supplies|         Art|Stanley Pens, Wat...|            33.075|       5|     0.5|-11.925000000000004| 45.00000000000001| not profitable|\n",
      "|    51|IT-2018-2321796|2018-04-02|2018-04-07|Standard Class|   IL-15100|     Ivan Liston|   Consumer|      Nacka|    Stockholm|     Sweden|  North|OFF-ST-10002659|Office Supplies|     Storage|Smead Shelving, W...|              72.0|       3|     0.5| -5.759999999999991| 77.75999999999999| not profitable|\n",
      "|   105|IT-2017-4388990|2017-08-10|2017-08-13|  Second Class|   MM-17260| Magdelene Morse|   Consumer|Vlaardingen|South Holland|Netherlands|Central|FUR-FU-10004137|      Furniture| Furnishings|Tenex Light Bulb,...|             84.24|       6|     0.2|             -15.84|            100.08| not profitable|\n",
      "|   106|IT-2017-4388990|2017-08-10|2017-08-13|  Second Class|   MM-17260| Magdelene Morse|   Consumer|Vlaardingen|South Holland|Netherlands|Central|OFF-ST-10001413|Office Supplies|     Storage|Rogers Folders, Blue|30.689999999999998|       2|     0.5|             -29.49| 60.17999999999999| not profitable|\n",
      "|   143|IT-2015-5134922|2015-10-16|2015-10-18|  Second Class|   BS-11365|    Bill Shonely|  Corporate|  Rotterdam|South Holland|Netherlands|Central|OFF-PA-10001662|Office Supplies|       Paper|Green Bar Note Ca...|            14.895|       1|     0.5|-4.1850000000000005|             19.08| not profitable|\n",
      "|   144|IT-2015-5134922|2015-10-16|2015-10-18|  Second Class|   BS-11365|    Bill Shonely|  Corporate|  Rotterdam|South Holland|Netherlands|Central|OFF-ST-10002263|Office Supplies|     Storage|Rogers Trays, Wir...|           151.875|       5|     0.5| -3.075000000000017|154.95000000000002| not profitable|\n",
      "|   145|IT-2016-2655811|2016-06-16|2016-06-22|Standard Class|   MT-18070|   Michelle Tran|Home Office|  Rotterdam|South Holland|Netherlands|Central|TEC-AC-10002530|     Technology| Accessories|Memorex Numeric K...|             86.04|       4|     0.5|             -29.28|115.32000000000001| not profitable|\n",
      "|   146|IT-2016-2655811|2016-06-16|2016-06-22|Standard Class|   MT-18070|   Michelle Tran|Home Office|  Rotterdam|South Holland|Netherlands|Central|OFF-AR-10001672|Office Supplies|         Art|Boston Sketch Pad...|             48.87|       2|     0.5|-20.549999999999997| 69.41999999999999| not profitable|\n",
      "|   164|IT-2017-3695467|2017-06-10|2017-06-14|Standard Class|   SS-20140|Saphhira Shifley|  Corporate|     Lisbon|       Lisboa|   Portugal|  South|OFF-AP-10001623|Office Supplies|  Appliances| Hoover Stove, White|           3399.66|      12|     0.5|-3059.8199999999997|           6459.48| not profitable|\n",
      "|   181|IT-2018-5192801|2018-12-25|2019-01-01|Standard Class|   JD-15895|Jonathan Doherty|  Corporate| Oosterhout|North Brabant|Netherlands|Central|OFF-LA-10003699|Office Supplies|      Labels|Smead File Folder...|23.729999999999997|       7|     0.5|-20.999999999999996| 44.72999999999999| not profitable|\n",
      "|   191|IT-2016-4187289|2016-05-10|2016-05-12|  Second Class|   LC-16960| Lindsay Castell|Home Office|  Amsterdam|North Holland|Netherlands|Central|OFF-FA-10000740|Office Supplies|   Fasteners|Accos Staples, Bu...|10.950000000000001|       2|     0.5| -6.570000000000001|17.520000000000003| not profitable|\n",
      "|   296|IT-2015-5989878|2015-10-20|2015-10-24|Standard Class|   RS-19870|      Roy Skaria|Home Office|    Helmond|North Brabant|Netherlands|Central|OFF-AR-10003457|Office Supplies|         Art|Sanford Sketch Pa...|             72.99|       3|     0.5| -4.409999999999997| 77.39999999999999| not profitable|\n",
      "|   340|IT-2016-1188964|2016-06-10|2016-06-17|Standard Class|   JK-16090|   Juliana Krohn|   Consumer|    Uppsala|      Uppsala|     Sweden|  North|FUR-CH-10004790|      Furniture|      Chairs|Office Star Bag C...|159.02999999999997|       6|     0.5| -28.70999999999998|187.73999999999995| not profitable|\n",
      "|   341|IT-2016-1188964|2016-06-10|2016-06-17|Standard Class|   JK-16090|   Juliana Krohn|   Consumer|    Uppsala|      Uppsala|     Sweden|  North|OFF-PA-10001492|Office Supplies|       Paper|Enermax Note Card...| 59.82000000000001|       4|     0.5| -34.74000000000001| 94.56000000000002| not profitable|\n",
      "|   342|IT-2016-1188964|2016-06-10|2016-06-17|Standard Class|   JK-16090|   Juliana Krohn|   Consumer|    Uppsala|      Uppsala|     Sweden|  North|OFF-PA-10000816|Office Supplies|       Paper|Enermax Memo Slip...|             7.785|       1|     0.5| -4.845000000000001|             12.63| not profitable|\n",
      "|   343|IT-2016-1188964|2016-06-10|2016-06-17|Standard Class|   JK-16090|   Juliana Krohn|   Consumer|    Uppsala|      Uppsala|     Sweden|  North|OFF-FA-10004359|Office Supplies|   Fasteners|OIC Paper Clips, ...|11.879999999999999|       2|     0.5|-5.9399999999999995|             17.82| not profitable|\n",
      "|   344|IT-2016-1188964|2016-06-10|2016-06-17|Standard Class|   JK-16090|   Juliana Krohn|   Consumer|    Uppsala|      Uppsala|     Sweden|  North|TEC-PH-10001963|     Technology|      Phones|Nokia Speaker Pho...|            248.88|       4|     0.5|             -149.4|            398.28| not profitable|\n",
      "|   346|IT-2018-5630655|2018-08-27|2018-09-03|Standard Class|   ZC-21910|Zuschuss Carroll|   Consumer|     Lisbon|       Lisboa|   Portugal|  South|OFF-PA-10001971|Office Supplies|       Paper|Eaton Memo Slips,...|             34.35|       5|     0.5|-11.100000000000001|             45.45| not profitable|\n",
      "+------+---------------+----------+----------+--------------+-----------+----------------+-----------+-----------+-------------+-----------+-------+---------------+---------------+------------+--------------------+------------------+--------+--------+-------------------+------------------+---------------+\n",
      "only showing top 20 rows\n",
      "\n"
     ]
    }
   ],
   "source": [
    "df.filter(df['Country'].isin(bottom_countries)).show()"
   ]
  },
  {
   "cell_type": "code",
   "execution_count": 282,
   "id": "091625e8",
   "metadata": {},
   "outputs": [
    {
     "data": {
      "text/plain": [
       "['Netherlands', 'Sweden', 'Portugal']"
      ]
     },
     "execution_count": 282,
     "metadata": {},
     "output_type": "execute_result"
    }
   ],
   "source": [
    "# Anoher approach for list comprehension\n",
    "[i for i,j in grouped_country][:3]"
   ]
  },
  {
   "cell_type": "code",
   "execution_count": 283,
   "id": "c6a5f603",
   "metadata": {},
   "outputs": [
    {
     "name": "stdout",
     "output_type": "stream",
     "text": [
      "+----------+------------------+\n",
      "|Order Date|             Sales|\n",
      "+----------+------------------+\n",
      "|2015-01-01| 44.86500000000001|\n",
      "|2015-01-03|            854.49|\n",
      "|2015-01-04|139.76999999999998|\n",
      "|2015-01-04|             26.64|\n",
      "|2015-01-04|17.009999999999998|\n",
      "|2015-01-05|            207.12|\n",
      "|2015-01-05|             89.55|\n",
      "|2015-01-06|324.45000000000005|\n",
      "|2015-01-07|           155.358|\n",
      "|2015-01-07|             33.39|\n",
      "|2015-01-07|             5.025|\n",
      "|2015-01-07|            716.04|\n",
      "|2015-01-08|           986.904|\n",
      "|2015-01-08|             115.8|\n",
      "|2015-01-10|           205.965|\n",
      "|2015-01-11|54.900000000000006|\n",
      "|2015-01-11|             40.35|\n",
      "|2015-01-11|267.98400000000004|\n",
      "|2015-01-11|             22.05|\n",
      "|2015-01-11| 97.01999999999998|\n",
      "+----------+------------------+\n",
      "only showing top 20 rows\n",
      "\n"
     ]
    }
   ],
   "source": [
    "df.select('Order Date','Sales').orderBy('Order Date').show()"
   ]
  },
  {
   "cell_type": "code",
   "execution_count": 284,
   "id": "1146d296",
   "metadata": {},
   "outputs": [
    {
     "name": "stdout",
     "output_type": "stream",
     "text": [
      "root\n",
      " |-- Order Date: string (nullable = true)\n",
      " |-- Order Date Clean: date (nullable = true)\n",
      "\n"
     ]
    }
   ],
   "source": [
    "from pyspark.sql import functions as F\n",
    "\n",
    "df.withColumn('Order Date Clean', F.to_date(df['Order Date'],'yyyy-MM-dd')).select('Order Date',\\\n",
    "                                                                            'Order Date Clean').printSchema()\n"
   ]
  },
  {
   "cell_type": "code",
   "execution_count": 285,
   "id": "0ccc91c2",
   "metadata": {},
   "outputs": [],
   "source": [
    "df = df.withColumn('Order Date Clean', F.to_date(df['Order Date'],'yyyy-MM-dd')).\\\n",
    "    withColumn('Ship Date Clean', F.to_date(df['Ship Date'],'yyyy-MM-dd'))\n"
   ]
  },
  {
   "cell_type": "code",
   "execution_count": 286,
   "id": "c9a62def",
   "metadata": {},
   "outputs": [
    {
     "data": {
      "text/plain": [
       "DataFrame[Row ID: string, Order ID: string, Order Date: string, Ship Date: string, Ship Mode: string, Customer ID: string, Customer Name: string, Segment: string, City: string, State: string, Country: string, Region: string, Product ID: string, Category: string, Sub-Category: string, Product Name: string, Sales: string, Quantity: string, Discount: string, Profit: string, Cost: double, Profitable Flag: string, Order Date Clean: date, Ship Date Clean: date]"
      ]
     },
     "execution_count": 286,
     "metadata": {},
     "output_type": "execute_result"
    }
   ],
   "source": [
    "df"
   ]
  },
  {
   "cell_type": "code",
   "execution_count": 287,
   "id": "d4100703",
   "metadata": {},
   "outputs": [],
   "source": [
    "# udf -> user defined function\n",
    "\n",
    "from pyspark.sql.functions import udf\n",
    "\n",
    "# defining the function you want \n",
    "def uppercase(mystring):\n",
    "    return mystring.upper()\n",
    "\n",
    "uppercaseUDF = udf(lambda x : uppercase(x))\n",
    "\n",
    "df = df.withColumn(\"Upper Cased Name\", uppercaseUDF(df['Customer Name']))"
   ]
  },
  {
   "cell_type": "code",
   "execution_count": 288,
   "id": "ba92c3de",
   "metadata": {},
   "outputs": [
    {
     "data": {
      "text/plain": [
       "DataFrame[Row ID: string, Order ID: string, Order Date: string, Ship Date: string, Ship Mode: string, Customer ID: string, Customer Name: string, Segment: string, City: string, State: string, Country: string, Region: string, Product ID: string, Category: string, Sub-Category: string, Product Name: string, Sales: string, Quantity: string, Discount: string, Profit: string, Cost: double, Profitable Flag: string, Order Date Clean: date, Ship Date Clean: date, Upper Cased Name: string]"
      ]
     },
     "execution_count": 288,
     "metadata": {},
     "output_type": "execute_result"
    }
   ],
   "source": [
    "df"
   ]
  },
  {
   "cell_type": "code",
   "execution_count": 289,
   "id": "321e8c09",
   "metadata": {},
   "outputs": [
    {
     "name": "stdout",
     "output_type": "stream",
     "text": [
      "+----------------+----------------+\n",
      "|   Customer Name|Upper Cased Name|\n",
      "+----------------+----------------+\n",
      "|  Aaron Smayling|  AARON SMAYLING|\n",
      "|  Aaron Smayling|  AARON SMAYLING|\n",
      "|  Aaron Smayling|  AARON SMAYLING|\n",
      "|  Aaron Smayling|  AARON SMAYLING|\n",
      "|  Aaron Smayling|  AARON SMAYLING|\n",
      "|  Aaron Smayling|  AARON SMAYLING|\n",
      "|  Aaron Smayling|  AARON SMAYLING|\n",
      "|   Ellis Ballard|   ELLIS BALLARD|\n",
      "|   Ellis Ballard|   ELLIS BALLARD|\n",
      "|   Ellis Ballard|   ELLIS BALLARD|\n",
      "|Logan Haushalter|LOGAN HAUSHALTER|\n",
      "|Logan Haushalter|LOGAN HAUSHALTER|\n",
      "|Logan Haushalter|LOGAN HAUSHALTER|\n",
      "|Logan Haushalter|LOGAN HAUSHALTER|\n",
      "|Logan Haushalter|LOGAN HAUSHALTER|\n",
      "| Kelly Collister| KELLY COLLISTER|\n",
      "| Kelly Collister| KELLY COLLISTER|\n",
      "| Kelly Collister| KELLY COLLISTER|\n",
      "|      Ben Ferrer|      BEN FERRER|\n",
      "|      Ben Ferrer|      BEN FERRER|\n",
      "+----------------+----------------+\n",
      "only showing top 20 rows\n",
      "\n"
     ]
    },
    {
     "name": "stderr",
     "output_type": "stream",
     "text": [
      "Traceback (most recent call last):\n",
      "  File \"/home/julian/spark-3.2.3-bin-hadoop3.2/python/lib/pyspark.zip/pyspark/daemon.py\", line 186, in manager\n",
      "  File \"/home/julian/spark-3.2.3-bin-hadoop3.2/python/lib/pyspark.zip/pyspark/daemon.py\", line 74, in worker\n",
      "  File \"/home/julian/spark-3.2.3-bin-hadoop3.2/python/lib/pyspark.zip/pyspark/worker.py\", line 663, in main\n",
      "    if read_int(infile) == SpecialLengths.END_OF_STREAM:\n",
      "  File \"/home/julian/spark-3.2.3-bin-hadoop3.2/python/lib/pyspark.zip/pyspark/serializers.py\", line 564, in read_int\n",
      "    raise EOFError\n",
      "EOFError\n"
     ]
    }
   ],
   "source": [
    "df.select('Customer Name', 'Upper Cased Name').show()"
   ]
  },
  {
   "cell_type": "code",
   "execution_count": 4,
   "id": "7eb81335",
   "metadata": {},
   "outputs": [
    {
     "data": {
      "text/html": [
       "\n",
       "            <div>\n",
       "                <p><b>SparkSession - in-memory</b></p>\n",
       "                \n",
       "        <div>\n",
       "            <p><b>SparkContext</b></p>\n",
       "\n",
       "            <p><a href=\"http://192.168.0.102:4040\">Spark UI</a></p>\n",
       "\n",
       "            <dl>\n",
       "              <dt>Version</dt>\n",
       "                <dd><code>v3.2.3</code></dd>\n",
       "              <dt>Master</dt>\n",
       "                <dd><code>local[*]</code></dd>\n",
       "              <dt>AppName</dt>\n",
       "                <dd><code>Datamanipulation</code></dd>\n",
       "            </dl>\n",
       "        </div>\n",
       "        \n",
       "            </div>\n",
       "        "
      ],
      "text/plain": [
       "<pyspark.sql.session.SparkSession at 0x7f071030adc0>"
      ]
     },
     "execution_count": 4,
     "metadata": {},
     "output_type": "execute_result"
    }
   ],
   "source": [
    "spark"
   ]
  },
  {
   "cell_type": "code",
   "execution_count": 5,
   "id": "0007975e",
   "metadata": {},
   "outputs": [],
   "source": [
    "players = spark.read.option(\"header\",\"true\").csv(\"/home/julian/Python_course/Data_Manipulation_Techniques/Player.csv\")"
   ]
  },
  {
   "cell_type": "code",
   "execution_count": 6,
   "id": "d95f80ac",
   "metadata": {},
   "outputs": [],
   "source": [
    "player_stats = spark.read.option(\"header\",\"true\").csv(\"/home/julian/Python_course/Data_Manipulation_Techniques/Player_Attributes.csv\")"
   ]
  },
  {
   "cell_type": "code",
   "execution_count": 7,
   "id": "7c5dbe23",
   "metadata": {},
   "outputs": [
    {
     "name": "stdout",
     "output_type": "stream",
     "text": [
      "root\n",
      " |-- id: string (nullable = true)\n",
      " |-- player_api_id: string (nullable = true)\n",
      " |-- player_name: string (nullable = true)\n",
      " |-- player_fifa_api_id: string (nullable = true)\n",
      " |-- birthday: string (nullable = true)\n",
      " |-- height: string (nullable = true)\n",
      " |-- weight: string (nullable = true)\n",
      "\n"
     ]
    }
   ],
   "source": [
    "players.printSchema()"
   ]
  },
  {
   "cell_type": "code",
   "execution_count": 8,
   "id": "0aaef267",
   "metadata": {},
   "outputs": [
    {
     "data": {
      "text/plain": [
       "11060"
      ]
     },
     "execution_count": 8,
     "metadata": {},
     "output_type": "execute_result"
    }
   ],
   "source": [
    "players.count()"
   ]
  },
  {
   "cell_type": "code",
   "execution_count": 9,
   "id": "0c05b1d0",
   "metadata": {},
   "outputs": [
    {
     "data": {
      "text/plain": [
       "11060"
      ]
     },
     "execution_count": 9,
     "metadata": {},
     "output_type": "execute_result"
    }
   ],
   "source": [
    "players.select('player_fifa_api_id').distinct().count()"
   ]
  },
  {
   "cell_type": "code",
   "execution_count": 10,
   "id": "7601c311",
   "metadata": {},
   "outputs": [
    {
     "name": "stdout",
     "output_type": "stream",
     "text": [
      "+-------------+-------------------+------------------+\n",
      "|player_api_id|               date|free_kick_accuracy|\n",
      "+-------------+-------------------+------------------+\n",
      "|       505942|2016-02-18 00:00:00|              39.0|\n",
      "|       505942|2015-11-19 00:00:00|              39.0|\n",
      "|       505942|2015-09-21 00:00:00|              39.0|\n",
      "|       505942|2015-03-20 00:00:00|              38.0|\n",
      "|       505942|2007-02-22 00:00:00|              38.0|\n",
      "|       155782|2016-04-21 00:00:00|              69.0|\n",
      "|       155782|2016-04-07 00:00:00|              69.0|\n",
      "|       155782|2016-01-07 00:00:00|              69.0|\n",
      "|       155782|2015-12-24 00:00:00|              69.0|\n",
      "|       155782|2015-12-17 00:00:00|              69.0|\n",
      "|       155782|2015-10-16 00:00:00|              69.0|\n",
      "|       155782|2015-09-25 00:00:00|              69.0|\n",
      "|       155782|2015-09-21 00:00:00|              69.0|\n",
      "|       155782|2015-01-09 00:00:00|              68.0|\n",
      "|       155782|2014-12-05 00:00:00|              68.0|\n",
      "|       155782|2014-11-07 00:00:00|              68.0|\n",
      "|       155782|2014-09-18 00:00:00|              68.0|\n",
      "|       155782|2014-05-02 00:00:00|              68.0|\n",
      "|       155782|2014-04-04 00:00:00|              68.0|\n",
      "|       155782|2014-03-14 00:00:00|              68.0|\n",
      "+-------------+-------------------+------------------+\n",
      "only showing top 20 rows\n",
      "\n"
     ]
    }
   ],
   "source": [
    "player_stats.select('player_api_id','date','free_kick_accuracy').show()"
   ]
  },
  {
   "cell_type": "code",
   "execution_count": 11,
   "id": "5fdd6718",
   "metadata": {},
   "outputs": [
    {
     "name": "stderr",
     "output_type": "stream",
     "text": [
      "                                                                                \r"
     ]
    },
    {
     "data": {
      "text/plain": [
       "183978"
      ]
     },
     "execution_count": 11,
     "metadata": {},
     "output_type": "execute_result"
    }
   ],
   "source": [
    "player_stats.count()"
   ]
  },
  {
   "cell_type": "code",
   "execution_count": 12,
   "id": "6c982e28",
   "metadata": {},
   "outputs": [],
   "source": [
    "players_with_stats = player_stats.join(players, players.player_api_id == player_stats.player_api_id)"
   ]
  },
  {
   "cell_type": "code",
   "execution_count": 13,
   "id": "ce335238",
   "metadata": {},
   "outputs": [
    {
     "data": {
      "text/plain": [
       "DataFrame[id: string, player_fifa_api_id: string, player_api_id: string, date: string, overall_rating: string, potential: string, preferred_foot: string, attacking_work_rate: string, defensive_work_rate: string, crossing: string, finishing: string, heading_accuracy: string, short_passing: string, volleys: string, dribbling: string, curve: string, free_kick_accuracy: string, long_passing: string, ball_control: string, acceleration: string, sprint_speed: string, agility: string, reactions: string, balance: string, shot_power: string, jumping: string, stamina: string, strength: string, long_shots: string, aggression: string, interceptions: string, positioning: string, vision: string, penalties: string, marking: string, standing_tackle: string, sliding_tackle: string, gk_diving: string, gk_handling: string, gk_kicking: string, gk_positioning: string, gk_reflexes: string, id: string, player_api_id: string, player_name: string, player_fifa_api_id: string, birthday: string, height: string, weight: string]"
      ]
     },
     "execution_count": 13,
     "metadata": {},
     "output_type": "execute_result"
    }
   ],
   "source": [
    "players_with_stats"
   ]
  },
  {
   "cell_type": "code",
   "execution_count": 14,
   "id": "6a0d9852",
   "metadata": {},
   "outputs": [],
   "source": [
    "players_with_stats = player_stats.join(players, ['player_api_id'] , how='left' )"
   ]
  },
  {
   "cell_type": "code",
   "execution_count": null,
   "id": "94c0b2a9",
   "metadata": {},
   "outputs": [],
   "source": []
  },
  {
   "cell_type": "code",
   "execution_count": 15,
   "id": "789f2e07",
   "metadata": {},
   "outputs": [
    {
     "data": {
      "text/plain": [
       "183978"
      ]
     },
     "execution_count": 15,
     "metadata": {},
     "output_type": "execute_result"
    }
   ],
   "source": [
    "players_with_stats.count()"
   ]
  },
  {
   "cell_type": "code",
   "execution_count": 16,
   "id": "3b9885b5",
   "metadata": {},
   "outputs": [
    {
     "name": "stderr",
     "output_type": "stream",
     "text": [
      "23/04/03 10:02:15 WARN package: Truncated the string representation of a plan since it was too large. This behavior can be adjusted by setting 'spark.sql.debug.maxToStringFields'.\n"
     ]
    },
    {
     "name": "stdout",
     "output_type": "stream",
     "text": [
      "+-------------+---+------------------+-------------------+--------------+---------+--------------+-------------------+-------------------+--------+---------+----------------+-------------+-------+---------+-----+------------------+------------+------------+------------+------------+-------+---------+-------+----------+-------+-------+--------+----------+----------+-------------+-----------+------+---------+-------+---------------+--------------+---------+-----------+----------+--------------+-----------+---+------------------+------------------+-------------------+------+------+\n",
      "|player_api_id| id|player_fifa_api_id|               date|overall_rating|potential|preferred_foot|attacking_work_rate|defensive_work_rate|crossing|finishing|heading_accuracy|short_passing|volleys|dribbling|curve|free_kick_accuracy|long_passing|ball_control|acceleration|sprint_speed|agility|reactions|balance|shot_power|jumping|stamina|strength|long_shots|aggression|interceptions|positioning|vision|penalties|marking|standing_tackle|sliding_tackle|gk_diving|gk_handling|gk_kicking|gk_positioning|gk_reflexes| id|       player_name|player_fifa_api_id|           birthday|height|weight|\n",
      "+-------------+---+------------------+-------------------+--------------+---------+--------------+-------------------+-------------------+--------+---------+----------------+-------------+-------+---------+-----+------------------+------------+------------+------------+------------+-------+---------+-------+----------+-------+-------+--------+----------+----------+-------------+-----------+------+---------+-------+---------------+--------------+---------+-----------+----------+--------------+-----------+---+------------------+------------------+-------------------+------+------+\n",
      "|       505942|  1|            218353|2016-02-18 00:00:00|          67.0|     71.0|         right|             medium|             medium|    49.0|     44.0|            71.0|         61.0|   44.0|     51.0| 45.0|              39.0|        64.0|        49.0|        60.0|        64.0|   59.0|     47.0|   65.0|      55.0|   58.0|   54.0|    76.0|      35.0|      71.0|         70.0|       45.0|  54.0|     48.0|   65.0|           69.0|          69.0|      6.0|       11.0|      10.0|           8.0|        8.0|  1|Aaron Appindangoye|            218353|1992-02-29 00:00:00|182.88|   187|\n",
      "|       505942|  2|            218353|2015-11-19 00:00:00|          67.0|     71.0|         right|             medium|             medium|    49.0|     44.0|            71.0|         61.0|   44.0|     51.0| 45.0|              39.0|        64.0|        49.0|        60.0|        64.0|   59.0|     47.0|   65.0|      55.0|   58.0|   54.0|    76.0|      35.0|      71.0|         70.0|       45.0|  54.0|     48.0|   65.0|           69.0|          69.0|      6.0|       11.0|      10.0|           8.0|        8.0|  1|Aaron Appindangoye|            218353|1992-02-29 00:00:00|182.88|   187|\n",
      "|       505942|  3|            218353|2015-09-21 00:00:00|          62.0|     66.0|         right|             medium|             medium|    49.0|     44.0|            71.0|         61.0|   44.0|     51.0| 45.0|              39.0|        64.0|        49.0|        60.0|        64.0|   59.0|     47.0|   65.0|      55.0|   58.0|   54.0|    76.0|      35.0|      63.0|         41.0|       45.0|  54.0|     48.0|   65.0|           66.0|          69.0|      6.0|       11.0|      10.0|           8.0|        8.0|  1|Aaron Appindangoye|            218353|1992-02-29 00:00:00|182.88|   187|\n",
      "|       505942|  4|            218353|2015-03-20 00:00:00|          61.0|     65.0|         right|             medium|             medium|    48.0|     43.0|            70.0|         60.0|   43.0|     50.0| 44.0|              38.0|        63.0|        48.0|        60.0|        64.0|   59.0|     46.0|   65.0|      54.0|   58.0|   54.0|    76.0|      34.0|      62.0|         40.0|       44.0|  53.0|     47.0|   62.0|           63.0|          66.0|      5.0|       10.0|       9.0|           7.0|        7.0|  1|Aaron Appindangoye|            218353|1992-02-29 00:00:00|182.88|   187|\n",
      "|       505942|  5|            218353|2007-02-22 00:00:00|          61.0|     65.0|         right|             medium|             medium|    48.0|     43.0|            70.0|         60.0|   43.0|     50.0| 44.0|              38.0|        63.0|        48.0|        60.0|        64.0|   59.0|     46.0|   65.0|      54.0|   58.0|   54.0|    76.0|      34.0|      62.0|         40.0|       44.0|  53.0|     47.0|   62.0|           63.0|          66.0|      5.0|       10.0|       9.0|           7.0|        7.0|  1|Aaron Appindangoye|            218353|1992-02-29 00:00:00|182.88|   187|\n",
      "|       155782|  6|            189615|2016-04-21 00:00:00|          74.0|     76.0|          left|               high|             medium|    80.0|     53.0|            58.0|         71.0|   40.0|     73.0| 70.0|              69.0|        68.0|        71.0|        79.0|        78.0|   78.0|     67.0|   90.0|      71.0|   85.0|   79.0|    56.0|      62.0|      68.0|         67.0|       60.0|  66.0|     59.0|   76.0|           75.0|          78.0|     14.0|        7.0|       9.0|           9.0|       12.0|  2|   Aaron Cresswell|            189615|1989-12-15 00:00:00|170.18|   146|\n",
      "|       155782|  7|            189615|2016-04-07 00:00:00|          74.0|     76.0|          left|               high|             medium|    80.0|     53.0|            58.0|         71.0|   32.0|     73.0| 70.0|              69.0|        68.0|        71.0|        79.0|        78.0|   78.0|     67.0|   90.0|      71.0|   85.0|   79.0|    56.0|      60.0|      68.0|         67.0|       60.0|  66.0|     59.0|   76.0|           75.0|          78.0|     14.0|        7.0|       9.0|           9.0|       12.0|  2|   Aaron Cresswell|            189615|1989-12-15 00:00:00|170.18|   146|\n",
      "|       155782|  8|            189615|2016-01-07 00:00:00|          73.0|     75.0|          left|               high|             medium|    79.0|     52.0|            57.0|         70.0|   29.0|     71.0| 68.0|              69.0|        68.0|        70.0|        79.0|        78.0|   78.0|     67.0|   90.0|      71.0|   84.0|   79.0|    56.0|      59.0|      67.0|         66.0|       58.0|  65.0|     59.0|   76.0|           75.0|          78.0|     14.0|        7.0|       9.0|           9.0|       12.0|  2|   Aaron Cresswell|            189615|1989-12-15 00:00:00|170.18|   146|\n",
      "|       155782|  9|            189615|2015-12-24 00:00:00|          73.0|     75.0|          left|               high|             medium|    79.0|     51.0|            57.0|         70.0|   29.0|     71.0| 68.0|              69.0|        68.0|        70.0|        79.0|        78.0|   78.0|     67.0|   90.0|      71.0|   84.0|   79.0|    56.0|      58.0|      67.0|         66.0|       58.0|  65.0|     59.0|   76.0|           75.0|          78.0|     14.0|        7.0|       9.0|           9.0|       12.0|  2|   Aaron Cresswell|            189615|1989-12-15 00:00:00|170.18|   146|\n",
      "|       155782| 10|            189615|2015-12-17 00:00:00|          73.0|     75.0|          left|               high|             medium|    79.0|     51.0|            57.0|         70.0|   29.0|     71.0| 68.0|              69.0|        68.0|        70.0|        79.0|        78.0|   78.0|     67.0|   90.0|      71.0|   84.0|   79.0|    56.0|      58.0|      67.0|         66.0|       58.0|  65.0|     59.0|   76.0|           75.0|          78.0|     14.0|        7.0|       9.0|           9.0|       12.0|  2|   Aaron Cresswell|            189615|1989-12-15 00:00:00|170.18|   146|\n",
      "|       155782| 11|            189615|2015-10-16 00:00:00|          73.0|     77.0|          left|               high|             medium|    79.0|     51.0|            57.0|         70.0|   29.0|     71.0| 68.0|              69.0|        68.0|        70.0|        79.0|        78.0|   78.0|     67.0|   90.0|      71.0|   84.0|   79.0|    56.0|      58.0|      67.0|         66.0|       58.0|  65.0|     59.0|   76.0|           75.0|          78.0|     14.0|        7.0|       9.0|           9.0|       12.0|  2|   Aaron Cresswell|            189615|1989-12-15 00:00:00|170.18|   146|\n",
      "|       155782| 12|            189615|2015-09-25 00:00:00|          74.0|     78.0|          left|               high|             medium|    79.0|     51.0|            57.0|         70.0|   29.0|     71.0| 68.0|              69.0|        68.0|        70.0|        80.0|        78.0|   78.0|     67.0|   90.0|      71.0|   84.0|   79.0|    56.0|      58.0|      67.0|         66.0|       58.0|  65.0|     59.0|   76.0|           75.0|          78.0|     14.0|        7.0|       9.0|           9.0|       12.0|  2|   Aaron Cresswell|            189615|1989-12-15 00:00:00|170.18|   146|\n",
      "|       155782| 13|            189615|2015-09-21 00:00:00|          73.0|     77.0|          left|             medium|             medium|    79.0|     51.0|            57.0|         70.0|   29.0|     67.0| 68.0|              69.0|        68.0|        68.0|        79.0|        78.0|   78.0|     67.0|   90.0|      71.0|   84.0|   79.0|    56.0|      58.0|      67.0|         66.0|       58.0|  65.0|     59.0|   76.0|           75.0|          78.0|     14.0|        7.0|       9.0|           9.0|       12.0|  2|   Aaron Cresswell|            189615|1989-12-15 00:00:00|170.18|   146|\n",
      "|       155782| 14|            189615|2015-01-09 00:00:00|          71.0|     75.0|          left|             medium|             medium|    78.0|     50.0|            56.0|         69.0|   28.0|     66.0| 67.0|              68.0|        67.0|        67.0|        79.0|        82.0|   79.0|     71.0|   90.0|      70.0|   84.0|   79.0|    50.0|      56.0|      66.0|         65.0|       57.0|  64.0|     58.0|   73.0|           72.0|          72.0|     13.0|        6.0|       8.0|           8.0|       11.0|  2|   Aaron Cresswell|            189615|1989-12-15 00:00:00|170.18|   146|\n",
      "|       155782| 15|            189615|2014-12-05 00:00:00|          71.0|     77.0|          left|             medium|             medium|    78.0|     50.0|            56.0|         69.0|   28.0|     66.0| 67.0|              68.0|        67.0|        67.0|        79.0|        82.0|   79.0|     71.0|   90.0|      70.0|   84.0|   79.0|    50.0|      56.0|      66.0|         65.0|       57.0|  64.0|     58.0|   73.0|           72.0|          72.0|     13.0|        6.0|       8.0|           8.0|       11.0|  2|   Aaron Cresswell|            189615|1989-12-15 00:00:00|170.18|   146|\n",
      "|       155782| 16|            189615|2014-11-07 00:00:00|          71.0|     77.0|          left|             medium|             medium|    78.0|     50.0|            56.0|         69.0|   28.0|     66.0| 67.0|              68.0|        67.0|        67.0|        79.0|        82.0|   79.0|     71.0|   90.0|      70.0|   84.0|   79.0|    50.0|      56.0|      66.0|         65.0|       57.0|  64.0|     58.0|   73.0|           72.0|          72.0|     13.0|        6.0|       8.0|           8.0|       11.0|  2|   Aaron Cresswell|            189615|1989-12-15 00:00:00|170.18|   146|\n",
      "|       155782| 17|            189615|2014-09-18 00:00:00|          70.0|     77.0|          left|             medium|             medium|    77.0|     50.0|            51.0|         67.0|   28.0|     66.0| 67.0|              68.0|        67.0|        66.0|        79.0|        82.0|   79.0|     69.0|   90.0|      70.0|   84.0|   79.0|    50.0|      56.0|      66.0|         62.0|       57.0|  64.0|     58.0|   73.0|           72.0|          72.0|     13.0|        6.0|       8.0|           8.0|       11.0|  2|   Aaron Cresswell|            189615|1989-12-15 00:00:00|170.18|   146|\n",
      "|       155782| 18|            189615|2014-05-02 00:00:00|          70.0|     79.0|          left|             medium|             medium|    77.0|     50.0|            51.0|         67.0|   28.0|     66.0| 67.0|              68.0|        67.0|        66.0|        84.0|        82.0|   81.0|     69.0|   90.0|      70.0|   84.0|   80.0|    50.0|      56.0|      66.0|         62.0|       57.0|  64.0|     58.0|   73.0|           72.0|          72.0|     13.0|        6.0|       8.0|           8.0|       11.0|  2|   Aaron Cresswell|            189615|1989-12-15 00:00:00|170.18|   146|\n",
      "|       155782| 19|            189615|2014-04-04 00:00:00|          70.0|     79.0|          left|             medium|             medium|    77.0|     50.0|            51.0|         67.0|   28.0|     66.0| 67.0|              68.0|        67.0|        66.0|        84.0|        82.0|   81.0|     69.0|   90.0|      70.0|   84.0|   80.0|    50.0|      56.0|      66.0|         62.0|       57.0|  64.0|     58.0|   73.0|           72.0|          72.0|     13.0|        6.0|       8.0|           8.0|       11.0|  2|   Aaron Cresswell|            189615|1989-12-15 00:00:00|170.18|   146|\n",
      "|       155782| 20|            189615|2014-03-14 00:00:00|          70.0|     79.0|          left|             medium|             medium|    77.0|     50.0|            51.0|         67.0|   28.0|     66.0| 66.0|              68.0|        67.0|        65.0|        84.0|        82.0|   81.0|     69.0|   90.0|      70.0|   84.0|   79.0|    49.0|      55.0|      66.0|         62.0|       57.0|  61.0|     58.0|   73.0|           72.0|          72.0|     13.0|        6.0|       8.0|           8.0|       11.0|  2|   Aaron Cresswell|            189615|1989-12-15 00:00:00|170.18|   146|\n",
      "+-------------+---+------------------+-------------------+--------------+---------+--------------+-------------------+-------------------+--------+---------+----------------+-------------+-------+---------+-----+------------------+------------+------------+------------+------------+-------+---------+-------+----------+-------+-------+--------+----------+----------+-------------+-----------+------+---------+-------+---------------+--------------+---------+-----------+----------+--------------+-----------+---+------------------+------------------+-------------------+------+------+\n",
      "only showing top 20 rows\n",
      "\n"
     ]
    }
   ],
   "source": [
    "# Broadcast join\n",
    "\n",
    "# You take a smaller dataset and make a copy of it in every node of the executor\n",
    "\n",
    "# Now we are going to broadcast the players dataset into all the executors and then  we will make the \n",
    "# join with the player stats faster\n",
    "\n",
    "from pyspark.sql.functions import broadcast\n",
    "\n",
    "player_stats.join(broadcast(players), ['player_api_id'] , how='left').show()"
   ]
  },
  {
   "cell_type": "code",
   "execution_count": 17,
   "id": "bcb5474e",
   "metadata": {},
   "outputs": [
    {
     "name": "stdout",
     "output_type": "stream",
     "text": [
      "root\n",
      " |-- id: string (nullable = true)\n",
      " |-- player_fifa_api_id: string (nullable = true)\n",
      " |-- player_api_id: string (nullable = true)\n",
      " |-- date: string (nullable = true)\n",
      " |-- overall_rating: string (nullable = true)\n",
      " |-- potential: string (nullable = true)\n",
      " |-- preferred_foot: string (nullable = true)\n",
      " |-- attacking_work_rate: string (nullable = true)\n",
      " |-- defensive_work_rate: string (nullable = true)\n",
      " |-- crossing: string (nullable = true)\n",
      " |-- finishing: string (nullable = true)\n",
      " |-- heading_accuracy: string (nullable = true)\n",
      " |-- short_passing: string (nullable = true)\n",
      " |-- volleys: string (nullable = true)\n",
      " |-- dribbling: string (nullable = true)\n",
      " |-- curve: string (nullable = true)\n",
      " |-- free_kick_accuracy: string (nullable = true)\n",
      " |-- long_passing: string (nullable = true)\n",
      " |-- ball_control: string (nullable = true)\n",
      " |-- acceleration: string (nullable = true)\n",
      " |-- sprint_speed: string (nullable = true)\n",
      " |-- agility: string (nullable = true)\n",
      " |-- reactions: string (nullable = true)\n",
      " |-- balance: string (nullable = true)\n",
      " |-- shot_power: string (nullable = true)\n",
      " |-- jumping: string (nullable = true)\n",
      " |-- stamina: string (nullable = true)\n",
      " |-- strength: string (nullable = true)\n",
      " |-- long_shots: string (nullable = true)\n",
      " |-- aggression: string (nullable = true)\n",
      " |-- interceptions: string (nullable = true)\n",
      " |-- positioning: string (nullable = true)\n",
      " |-- vision: string (nullable = true)\n",
      " |-- penalties: string (nullable = true)\n",
      " |-- marking: string (nullable = true)\n",
      " |-- standing_tackle: string (nullable = true)\n",
      " |-- sliding_tackle: string (nullable = true)\n",
      " |-- gk_diving: string (nullable = true)\n",
      " |-- gk_handling: string (nullable = true)\n",
      " |-- gk_kicking: string (nullable = true)\n",
      " |-- gk_positioning: string (nullable = true)\n",
      " |-- gk_reflexes: string (nullable = true)\n",
      "\n"
     ]
    }
   ],
   "source": [
    "player_stats.printSchema()"
   ]
  },
  {
   "cell_type": "code",
   "execution_count": 18,
   "id": "5fcb831b",
   "metadata": {},
   "outputs": [
    {
     "name": "stdout",
     "output_type": "stream",
     "text": [
      "+-------------+----+\n",
      "|player_api_id|year|\n",
      "+-------------+----+\n",
      "|       505942|2016|\n",
      "|       505942|2015|\n",
      "|       505942|2015|\n",
      "|       505942|2015|\n",
      "|       505942|2007|\n",
      "|       155782|2016|\n",
      "|       155782|2016|\n",
      "|       155782|2016|\n",
      "|       155782|2015|\n",
      "|       155782|2015|\n",
      "|       155782|2015|\n",
      "|       155782|2015|\n",
      "|       155782|2015|\n",
      "|       155782|2015|\n",
      "|       155782|2014|\n",
      "|       155782|2014|\n",
      "|       155782|2014|\n",
      "|       155782|2014|\n",
      "|       155782|2014|\n",
      "|       155782|2014|\n",
      "+-------------+----+\n",
      "only showing top 20 rows\n",
      "\n"
     ]
    }
   ],
   "source": [
    "# calculate a new column called year\n",
    "\n",
    "from pyspark.sql.functions import year\n",
    "\n",
    "player_stats = player_stats.withColumn(\"year\", year(player_stats['date']))\n",
    "\n",
    "player_stats.select('player_api_id','year').show()"
   ]
  },
  {
   "cell_type": "code",
   "execution_count": 19,
   "id": "c0b66810",
   "metadata": {},
   "outputs": [],
   "source": [
    "player_stats.columns\n",
    "\n",
    "# sprint_speed\n",
    "# shot_power\n",
    "# acceleration\n",
    "# finishing\n",
    "\n",
    "# groupby\n",
    "\n",
    "grouped_stats = player_stats.groupBy('player_api_id','year').agg({'sprint_speed' : 'mean'\\\n",
    "                ,'shot_power' : 'mean','acceleration' : 'mean','finishing' : 'mean'})\n",
    "        "
   ]
  },
  {
   "cell_type": "code",
   "execution_count": 20,
   "id": "3b9460f1",
   "metadata": {},
   "outputs": [
    {
     "name": "stderr",
     "output_type": "stream",
     "text": [
      "[Stage 22:==============>                                           (1 + 3) / 4]\r"
     ]
    },
    {
     "name": "stdout",
     "output_type": "stream",
     "text": [
      "+-------------+----+------------------+-----------------+-----------------+-----------------+\n",
      "|player_api_id|year|    avg(finishing)|avg(acceleration)|avg(sprint_speed)|  avg(shot_power)|\n",
      "+-------------+----+------------------+-----------------+-----------------+-----------------+\n",
      "|       191784|2015|              21.6|             31.0|             55.0|             57.6|\n",
      "|       209372|2015| 65.66666666666667|71.66666666666667|             74.0|73.66666666666667|\n",
      "|       170593|2014|              42.0|             80.5|             82.0|             68.0|\n",
      "|       185336|2012|              63.0|             71.0|             68.0|             76.0|\n",
      "|       243068|2016|              66.0|             78.0|             76.0|             69.0|\n",
      "|        47394|2015|              70.8|             76.5|             69.3|             74.6|\n",
      "|        39311|2008|              92.0|             88.0|             84.0|             87.0|\n",
      "|       182847|2013|              38.0|             63.0|             64.0|             62.0|\n",
      "|        36785|2011|              42.0|             68.0|             73.0|             71.0|\n",
      "|        97657|2015|              54.0|             64.0|             60.0|             66.0|\n",
      "|       302911|2014|              34.0|             66.0|             60.0|             66.0|\n",
      "|        16351|2015|54.666666666666664|70.66666666666667|66.33333333333333|90.66666666666667|\n",
      "|       155739|2014|              44.2|             69.2|             69.0|             60.0|\n",
      "|       306158|2014|              60.0|             78.0|             72.0|             58.0|\n",
      "|        39145|2008|              52.0|             62.0|             67.0|             58.0|\n",
      "|       154238|2016|              31.0|             73.0|             75.0|             61.0|\n",
      "|       264842|2012|              57.5|             64.5|             59.0|             67.0|\n",
      "|       396888|2015|              44.0|             90.0|             86.0|             56.0|\n",
      "|        31672|2016|              59.0|             67.5|             67.5|             80.0|\n",
      "|        71764|2009|              57.0|             77.0|             65.0|             57.0|\n",
      "+-------------+----+------------------+-----------------+-----------------+-----------------+\n",
      "only showing top 20 rows\n",
      "\n"
     ]
    },
    {
     "name": "stderr",
     "output_type": "stream",
     "text": [
      "\r",
      "                                                                                \r"
     ]
    }
   ],
   "source": [
    "grouped_stats.show()"
   ]
  },
  {
   "cell_type": "code",
   "execution_count": 21,
   "id": "b4605d86",
   "metadata": {},
   "outputs": [
    {
     "name": "stderr",
     "output_type": "stream",
     "text": [
      "                                                                                \r"
     ]
    },
    {
     "data": {
      "text/plain": [
       "73059"
      ]
     },
     "execution_count": 21,
     "metadata": {},
     "output_type": "execute_result"
    }
   ],
   "source": [
    "grouped_stats.count()"
   ]
  },
  {
   "cell_type": "code",
   "execution_count": 22,
   "id": "63223857",
   "metadata": {},
   "outputs": [
    {
     "data": {
      "text/plain": [
       "11060"
      ]
     },
     "execution_count": 22,
     "metadata": {},
     "output_type": "execute_result"
    }
   ],
   "source": [
    "grouped_stats.select('player_api_id').distinct().count()"
   ]
  },
  {
   "cell_type": "code",
   "execution_count": 23,
   "id": "9822818a",
   "metadata": {},
   "outputs": [],
   "source": [
    "# create a new column called overall \n",
    "\n",
    "grouped_stats = grouped_stats.withColumn('overall', (grouped_stats['avg(finishing)']\\\n",
    "                                + grouped_stats['avg(acceleration)']\\\n",
    "                                + grouped_stats['avg(sprint_speed)'] \\\n",
    "                                + grouped_stats['avg(shot_power)'])/4)"
   ]
  },
  {
   "cell_type": "code",
   "execution_count": 24,
   "id": "fb08e35f",
   "metadata": {},
   "outputs": [
    {
     "name": "stderr",
     "output_type": "stream",
     "text": [
      "\r",
      "[Stage 37:===========================================>              (3 + 1) / 4]\r"
     ]
    },
    {
     "name": "stdout",
     "output_type": "stream",
     "text": [
      "+-------------+----+------------------+-----------------+-----------------+-----------------+-----------------+\n",
      "|player_api_id|year|    avg(finishing)|avg(acceleration)|avg(sprint_speed)|  avg(shot_power)|          overall|\n",
      "+-------------+----+------------------+-----------------+-----------------+-----------------+-----------------+\n",
      "|       191784|2015|              21.6|             31.0|             55.0|             57.6|             41.3|\n",
      "|       209372|2015| 65.66666666666667|71.66666666666667|             74.0|73.66666666666667|            71.25|\n",
      "|       170593|2014|              42.0|             80.5|             82.0|             68.0|           68.125|\n",
      "|       185336|2012|              63.0|             71.0|             68.0|             76.0|             69.5|\n",
      "|       243068|2016|              66.0|             78.0|             76.0|             69.0|            72.25|\n",
      "|        47394|2015|              70.8|             76.5|             69.3|             74.6|72.80000000000001|\n",
      "|        39311|2008|              92.0|             88.0|             84.0|             87.0|            87.75|\n",
      "|       182847|2013|              38.0|             63.0|             64.0|             62.0|            56.75|\n",
      "|        36785|2011|              42.0|             68.0|             73.0|             71.0|             63.5|\n",
      "|        97657|2015|              54.0|             64.0|             60.0|             66.0|             61.0|\n",
      "|       302911|2014|              34.0|             66.0|             60.0|             66.0|             56.5|\n",
      "|        16351|2015|54.666666666666664|70.66666666666667|66.33333333333333|90.66666666666667|70.58333333333334|\n",
      "|       155739|2014|              44.2|             69.2|             69.0|             60.0|             60.6|\n",
      "|       306158|2014|              60.0|             78.0|             72.0|             58.0|             67.0|\n",
      "|        39145|2008|              52.0|             62.0|             67.0|             58.0|            59.75|\n",
      "|       154238|2016|              31.0|             73.0|             75.0|             61.0|             60.0|\n",
      "|       264842|2012|              57.5|             64.5|             59.0|             67.0|             62.0|\n",
      "|       396888|2015|              44.0|             90.0|             86.0|             56.0|             69.0|\n",
      "|        31672|2016|              59.0|             67.5|             67.5|             80.0|             68.5|\n",
      "|        71764|2009|              57.0|             77.0|             65.0|             57.0|             64.0|\n",
      "+-------------+----+------------------+-----------------+-----------------+-----------------+-----------------+\n",
      "only showing top 20 rows\n",
      "\n"
     ]
    },
    {
     "name": "stderr",
     "output_type": "stream",
     "text": [
      "\r",
      "                                                                                \r"
     ]
    }
   ],
   "source": [
    "grouped_stats.show()"
   ]
  },
  {
   "cell_type": "code",
   "execution_count": 27,
   "id": "52797490",
   "metadata": {},
   "outputs": [],
   "source": [
    "# We want our best players by this overall criteria \n",
    "\n",
    "grouped_stats.orderBy('overall', ascending=False)\n",
    "\n",
    "final_best_players = grouped_stats.join(players, ['player_api_id']).orderBy('overall', ascending=False)"
   ]
  },
  {
   "cell_type": "code",
   "execution_count": 30,
   "id": "3388e2d6",
   "metadata": {},
   "outputs": [],
   "source": [
    "final_best_players = final_best_players.select('player_name','year','overall')"
   ]
  },
  {
   "cell_type": "code",
   "execution_count": 41,
   "id": "87228ef4",
   "metadata": {
    "scrolled": true
   },
   "outputs": [
    {
     "name": "stdout",
     "output_type": "stream",
     "text": [
      "+-----------------+----+-------+\n",
      "|      player_name|year|overall|\n",
      "+-----------------+----+-------+\n",
      "|     Samuel Eto'o|2007| 93.125|\n",
      "|    Thierry Henry|2007| 91.625|\n",
      "|     Wayne Rooney|2007|   90.5|\n",
      "|      David Villa|2007|  89.25|\n",
      "|  Fernando Torres|2007| 89.125|\n",
      "|       Ronaldinho|2007|   89.0|\n",
      "|  David Trezeguet|2007|  88.75|\n",
      "|             Kaka|2007|  88.75|\n",
      "|  Obafemi Martins|2007|   88.5|\n",
      "|   Miroslav Klose|2007| 88.375|\n",
      "|      Darren Bent|2007|  88.25|\n",
      "|          Adriano|2007|  87.75|\n",
      "|   Lukas Podolski|2007| 87.625|\n",
      "|    Jermain Defoe|2007|   87.5|\n",
      "|     Lionel Messi|2007| 87.375|\n",
      "|   Steven Gerrard|2007| 87.375|\n",
      "|Cristiano Ronaldo|2007| 87.375|\n",
      "|     Carlos Tevez|2007| 87.125|\n",
      "|     Michael Owen|2007|   87.0|\n",
      "|   Andrew Johnson|2007| 86.875|\n",
      "+-----------------+----+-------+\n",
      "only showing top 20 rows\n",
      "\n"
     ]
    }
   ],
   "source": [
    "year = 2007\n",
    "\n",
    "final_best_players.filter(final_best_players['year'] == year).show()"
   ]
  },
  {
   "cell_type": "markdown",
   "id": "7e104ae7",
   "metadata": {},
   "source": [
    "## SQL SPARK"
   ]
  },
  {
   "cell_type": "code",
   "execution_count": null,
   "id": "f14fbac3",
   "metadata": {},
   "outputs": [],
   "source": [
    "'SELECT * FROm player'  <- we are referencing the players table"
   ]
  },
  {
   "cell_type": "code",
   "execution_count": null,
   "id": "f12feadb",
   "metadata": {},
   "outputs": [],
   "source": [
    "# Our first step is to create a 'SQL like' table which we can query with spark "
   ]
  },
  {
   "cell_type": "code",
   "execution_count": 42,
   "id": "f73e2190",
   "metadata": {},
   "outputs": [],
   "source": [
    "players.createOrReplaceTempView('players')\n",
    "\n",
    "# Here we are creating a temporary SQL like table from the dataframe and associating it to the spark session"
   ]
  },
  {
   "cell_type": "code",
   "execution_count": 48,
   "id": "9c30462b",
   "metadata": {},
   "outputs": [],
   "source": [
    "df2 = spark.sql('SELECT * FROM players WHERE height > 170 ORDER BY height DESC')"
   ]
  },
  {
   "cell_type": "code",
   "execution_count": 49,
   "id": "3b8266ef",
   "metadata": {},
   "outputs": [
    {
     "name": "stdout",
     "output_type": "stream",
     "text": [
      "+--------------------+\n",
      "|         player_name|\n",
      "+--------------------+\n",
      "|    Kristof van Hout|\n",
      "|          Kevin Vink|\n",
      "|        Bogdan Milic|\n",
      "|        Fejsal Mulic|\n",
      "|   Stefan Maierhofer|\n",
      "|Vanja Milinkovic-...|\n",
      "|        Zeljko Kalac|\n",
      "|       Lacina Traore|\n",
      "|   Costel Pantilimon|\n",
      "|        Nikola Zigic|\n",
      "|       Paolo Acerbis|\n",
      "|       Pietro Marino|\n",
      "|       Jurgen Wevers|\n",
      "|           Abdoul Ba|\n",
      "|         Daniel Burn|\n",
      "|       Asmir Begovic|\n",
      "|      Danny Wintjens|\n",
      "|        Peter Crouch|\n",
      "|      Fraser Forster|\n",
      "|        Robert Jones|\n",
      "+--------------------+\n",
      "only showing top 20 rows\n",
      "\n"
     ]
    }
   ],
   "source": [
    "df2.select('player_name').show()"
   ]
  },
  {
   "cell_type": "code",
   "execution_count": 50,
   "id": "feba0821",
   "metadata": {},
   "outputs": [],
   "source": [
    "player_stats.createOrReplaceTempView('stats')\n"
   ]
  },
  {
   "cell_type": "code",
   "execution_count": 54,
   "id": "f17b412e",
   "metadata": {},
   "outputs": [
    {
     "name": "stdout",
     "output_type": "stream",
     "text": [
      "+---+------------------+-------------+-------------------+--------------+---------+--------------+-------------------+-------------------+--------+---------+----------------+-------------+-------+---------+-----+------------------+------------+------------+------------+------------+-------+---------+-------+----------+-------+-------+--------+----------+----------+-------------+-----------+------+---------+-------+---------------+--------------+---------+-----------+----------+--------------+-----------+----+\n",
      "| id|player_fifa_api_id|player_api_id|               date|overall_rating|potential|preferred_foot|attacking_work_rate|defensive_work_rate|crossing|finishing|heading_accuracy|short_passing|volleys|dribbling|curve|free_kick_accuracy|long_passing|ball_control|acceleration|sprint_speed|agility|reactions|balance|shot_power|jumping|stamina|strength|long_shots|aggression|interceptions|positioning|vision|penalties|marking|standing_tackle|sliding_tackle|gk_diving|gk_handling|gk_kicking|gk_positioning|gk_reflexes|year|\n",
      "+---+------------------+-------------+-------------------+--------------+---------+--------------+-------------------+-------------------+--------+---------+----------------+-------------+-------+---------+-----+------------------+------------+------------+------------+------------+-------+---------+-------+----------+-------+-------+--------+----------+----------+-------------+-----------+------+---------+-------+---------------+--------------+---------+-----------+----------+--------------+-----------+----+\n",
      "|  1|            218353|       505942|2016-02-18 00:00:00|          67.0|     71.0|         right|             medium|             medium|    49.0|     44.0|            71.0|         61.0|   44.0|     51.0| 45.0|              39.0|        64.0|        49.0|        60.0|        64.0|   59.0|     47.0|   65.0|      55.0|   58.0|   54.0|    76.0|      35.0|      71.0|         70.0|       45.0|  54.0|     48.0|   65.0|           69.0|          69.0|      6.0|       11.0|      10.0|           8.0|        8.0|2016|\n",
      "|  2|            218353|       505942|2015-11-19 00:00:00|          67.0|     71.0|         right|             medium|             medium|    49.0|     44.0|            71.0|         61.0|   44.0|     51.0| 45.0|              39.0|        64.0|        49.0|        60.0|        64.0|   59.0|     47.0|   65.0|      55.0|   58.0|   54.0|    76.0|      35.0|      71.0|         70.0|       45.0|  54.0|     48.0|   65.0|           69.0|          69.0|      6.0|       11.0|      10.0|           8.0|        8.0|2015|\n",
      "|  3|            218353|       505942|2015-09-21 00:00:00|          62.0|     66.0|         right|             medium|             medium|    49.0|     44.0|            71.0|         61.0|   44.0|     51.0| 45.0|              39.0|        64.0|        49.0|        60.0|        64.0|   59.0|     47.0|   65.0|      55.0|   58.0|   54.0|    76.0|      35.0|      63.0|         41.0|       45.0|  54.0|     48.0|   65.0|           66.0|          69.0|      6.0|       11.0|      10.0|           8.0|        8.0|2015|\n",
      "|  4|            218353|       505942|2015-03-20 00:00:00|          61.0|     65.0|         right|             medium|             medium|    48.0|     43.0|            70.0|         60.0|   43.0|     50.0| 44.0|              38.0|        63.0|        48.0|        60.0|        64.0|   59.0|     46.0|   65.0|      54.0|   58.0|   54.0|    76.0|      34.0|      62.0|         40.0|       44.0|  53.0|     47.0|   62.0|           63.0|          66.0|      5.0|       10.0|       9.0|           7.0|        7.0|2015|\n",
      "|  5|            218353|       505942|2007-02-22 00:00:00|          61.0|     65.0|         right|             medium|             medium|    48.0|     43.0|            70.0|         60.0|   43.0|     50.0| 44.0|              38.0|        63.0|        48.0|        60.0|        64.0|   59.0|     46.0|   65.0|      54.0|   58.0|   54.0|    76.0|      34.0|      62.0|         40.0|       44.0|  53.0|     47.0|   62.0|           63.0|          66.0|      5.0|       10.0|       9.0|           7.0|        7.0|2007|\n",
      "|  6|            189615|       155782|2016-04-21 00:00:00|          74.0|     76.0|          left|               high|             medium|    80.0|     53.0|            58.0|         71.0|   40.0|     73.0| 70.0|              69.0|        68.0|        71.0|        79.0|        78.0|   78.0|     67.0|   90.0|      71.0|   85.0|   79.0|    56.0|      62.0|      68.0|         67.0|       60.0|  66.0|     59.0|   76.0|           75.0|          78.0|     14.0|        7.0|       9.0|           9.0|       12.0|2016|\n",
      "|  7|            189615|       155782|2016-04-07 00:00:00|          74.0|     76.0|          left|               high|             medium|    80.0|     53.0|            58.0|         71.0|   32.0|     73.0| 70.0|              69.0|        68.0|        71.0|        79.0|        78.0|   78.0|     67.0|   90.0|      71.0|   85.0|   79.0|    56.0|      60.0|      68.0|         67.0|       60.0|  66.0|     59.0|   76.0|           75.0|          78.0|     14.0|        7.0|       9.0|           9.0|       12.0|2016|\n",
      "|  8|            189615|       155782|2016-01-07 00:00:00|          73.0|     75.0|          left|               high|             medium|    79.0|     52.0|            57.0|         70.0|   29.0|     71.0| 68.0|              69.0|        68.0|        70.0|        79.0|        78.0|   78.0|     67.0|   90.0|      71.0|   84.0|   79.0|    56.0|      59.0|      67.0|         66.0|       58.0|  65.0|     59.0|   76.0|           75.0|          78.0|     14.0|        7.0|       9.0|           9.0|       12.0|2016|\n",
      "|  9|            189615|       155782|2015-12-24 00:00:00|          73.0|     75.0|          left|               high|             medium|    79.0|     51.0|            57.0|         70.0|   29.0|     71.0| 68.0|              69.0|        68.0|        70.0|        79.0|        78.0|   78.0|     67.0|   90.0|      71.0|   84.0|   79.0|    56.0|      58.0|      67.0|         66.0|       58.0|  65.0|     59.0|   76.0|           75.0|          78.0|     14.0|        7.0|       9.0|           9.0|       12.0|2015|\n",
      "| 10|            189615|       155782|2015-12-17 00:00:00|          73.0|     75.0|          left|               high|             medium|    79.0|     51.0|            57.0|         70.0|   29.0|     71.0| 68.0|              69.0|        68.0|        70.0|        79.0|        78.0|   78.0|     67.0|   90.0|      71.0|   84.0|   79.0|    56.0|      58.0|      67.0|         66.0|       58.0|  65.0|     59.0|   76.0|           75.0|          78.0|     14.0|        7.0|       9.0|           9.0|       12.0|2015|\n",
      "| 11|            189615|       155782|2015-10-16 00:00:00|          73.0|     77.0|          left|               high|             medium|    79.0|     51.0|            57.0|         70.0|   29.0|     71.0| 68.0|              69.0|        68.0|        70.0|        79.0|        78.0|   78.0|     67.0|   90.0|      71.0|   84.0|   79.0|    56.0|      58.0|      67.0|         66.0|       58.0|  65.0|     59.0|   76.0|           75.0|          78.0|     14.0|        7.0|       9.0|           9.0|       12.0|2015|\n",
      "| 12|            189615|       155782|2015-09-25 00:00:00|          74.0|     78.0|          left|               high|             medium|    79.0|     51.0|            57.0|         70.0|   29.0|     71.0| 68.0|              69.0|        68.0|        70.0|        80.0|        78.0|   78.0|     67.0|   90.0|      71.0|   84.0|   79.0|    56.0|      58.0|      67.0|         66.0|       58.0|  65.0|     59.0|   76.0|           75.0|          78.0|     14.0|        7.0|       9.0|           9.0|       12.0|2015|\n",
      "| 13|            189615|       155782|2015-09-21 00:00:00|          73.0|     77.0|          left|             medium|             medium|    79.0|     51.0|            57.0|         70.0|   29.0|     67.0| 68.0|              69.0|        68.0|        68.0|        79.0|        78.0|   78.0|     67.0|   90.0|      71.0|   84.0|   79.0|    56.0|      58.0|      67.0|         66.0|       58.0|  65.0|     59.0|   76.0|           75.0|          78.0|     14.0|        7.0|       9.0|           9.0|       12.0|2015|\n",
      "| 14|            189615|       155782|2015-01-09 00:00:00|          71.0|     75.0|          left|             medium|             medium|    78.0|     50.0|            56.0|         69.0|   28.0|     66.0| 67.0|              68.0|        67.0|        67.0|        79.0|        82.0|   79.0|     71.0|   90.0|      70.0|   84.0|   79.0|    50.0|      56.0|      66.0|         65.0|       57.0|  64.0|     58.0|   73.0|           72.0|          72.0|     13.0|        6.0|       8.0|           8.0|       11.0|2015|\n",
      "| 15|            189615|       155782|2014-12-05 00:00:00|          71.0|     77.0|          left|             medium|             medium|    78.0|     50.0|            56.0|         69.0|   28.0|     66.0| 67.0|              68.0|        67.0|        67.0|        79.0|        82.0|   79.0|     71.0|   90.0|      70.0|   84.0|   79.0|    50.0|      56.0|      66.0|         65.0|       57.0|  64.0|     58.0|   73.0|           72.0|          72.0|     13.0|        6.0|       8.0|           8.0|       11.0|2014|\n",
      "| 16|            189615|       155782|2014-11-07 00:00:00|          71.0|     77.0|          left|             medium|             medium|    78.0|     50.0|            56.0|         69.0|   28.0|     66.0| 67.0|              68.0|        67.0|        67.0|        79.0|        82.0|   79.0|     71.0|   90.0|      70.0|   84.0|   79.0|    50.0|      56.0|      66.0|         65.0|       57.0|  64.0|     58.0|   73.0|           72.0|          72.0|     13.0|        6.0|       8.0|           8.0|       11.0|2014|\n",
      "| 17|            189615|       155782|2014-09-18 00:00:00|          70.0|     77.0|          left|             medium|             medium|    77.0|     50.0|            51.0|         67.0|   28.0|     66.0| 67.0|              68.0|        67.0|        66.0|        79.0|        82.0|   79.0|     69.0|   90.0|      70.0|   84.0|   79.0|    50.0|      56.0|      66.0|         62.0|       57.0|  64.0|     58.0|   73.0|           72.0|          72.0|     13.0|        6.0|       8.0|           8.0|       11.0|2014|\n",
      "| 18|            189615|       155782|2014-05-02 00:00:00|          70.0|     79.0|          left|             medium|             medium|    77.0|     50.0|            51.0|         67.0|   28.0|     66.0| 67.0|              68.0|        67.0|        66.0|        84.0|        82.0|   81.0|     69.0|   90.0|      70.0|   84.0|   80.0|    50.0|      56.0|      66.0|         62.0|       57.0|  64.0|     58.0|   73.0|           72.0|          72.0|     13.0|        6.0|       8.0|           8.0|       11.0|2014|\n",
      "| 19|            189615|       155782|2014-04-04 00:00:00|          70.0|     79.0|          left|             medium|             medium|    77.0|     50.0|            51.0|         67.0|   28.0|     66.0| 67.0|              68.0|        67.0|        66.0|        84.0|        82.0|   81.0|     69.0|   90.0|      70.0|   84.0|   80.0|    50.0|      56.0|      66.0|         62.0|       57.0|  64.0|     58.0|   73.0|           72.0|          72.0|     13.0|        6.0|       8.0|           8.0|       11.0|2014|\n",
      "| 20|            189615|       155782|2014-03-14 00:00:00|          70.0|     79.0|          left|             medium|             medium|    77.0|     50.0|            51.0|         67.0|   28.0|     66.0| 66.0|              68.0|        67.0|        65.0|        84.0|        82.0|   81.0|     69.0|   90.0|      70.0|   84.0|   79.0|    49.0|      55.0|      66.0|         62.0|       57.0|  61.0|     58.0|   73.0|           72.0|          72.0|     13.0|        6.0|       8.0|           8.0|       11.0|2014|\n",
      "+---+------------------+-------------+-------------------+--------------+---------+--------------+-------------------+-------------------+--------+---------+----------------+-------------+-------+---------+-----+------------------+------------+------------+------------+------------+-------+---------+-------+----------+-------+-------+--------+----------+----------+-------------+-----------+------+---------+-------+---------------+--------------+---------+-----------+----------+--------------+-----------+----+\n",
      "only showing top 20 rows\n",
      "\n"
     ]
    }
   ],
   "source": [
    "spark.sql('SELECT * FROM stats WHERE stamina > 50' ).filter(player_stats['Stamina'] > 50).show()"
   ]
  },
  {
   "cell_type": "code",
   "execution_count": 65,
   "id": "ab966a5b",
   "metadata": {},
   "outputs": [
    {
     "name": "stdout",
     "output_type": "stream",
     "text": [
      "+-------------+-------------------+-----+-----------------+------------------+-------------------+------+------+\n",
      "|player_api_id|avg(overall_rating)|   id|      player_name|player_fifa_api_id|           birthday|height|weight|\n",
      "+-------------+-------------------+-----+-----------------+------------------+-------------------+------+------+\n",
      "|        30723|               91.0|  388| Alessandro Nesta|              1088|1976-03-19 00:00:00|187.96|   174|\n",
      "|        30955|  90.28571428571429|  742|   Andres Iniesta|                41|1984-05-11 00:00:00|170.18|   150|\n",
      "|        30834|               90.0|  951|     Arjen Robben|              9014|1984-01-23 00:00:00|180.34|   176|\n",
      "|        30893|              91.95| 1995|Cristiano Ronaldo|             20801|1985-02-05 00:00:00|185.42|   176|\n",
      "|        30728|               90.0| 2426|  David Trezeguet|              5984|1977-10-15 00:00:00| 190.5|   176|\n",
      "|        34520|               91.0| 3183|  Fabio Cannavaro|              1183|1973-09-13 00:00:00|175.26|   165|\n",
      "|        30924|               90.0| 3514|    Franck Ribery|            156616|1983-04-07 00:00:00|170.18|   159|\n",
      "|        30631|               90.0| 3544|    Frank Lampard|              5471|1978-06-20 00:00:00|182.88|   196|\n",
      "|        30717|  91.33333333333333| 3826| Gianluigi Buffon|              1179|1978-01-28 00:00:00|193.04|   201|\n",
      "|        39989|               92.0| 3994|   Gregory Coupet|              1747|1972-12-31 00:00:00|180.34|   176|\n",
      "|        30657|               90.5| 4366|    Iker Casillas|              5479|1981-05-20 00:00:00|185.42|   185|\n",
      "|        30627|               91.0| 5120|       John Terry|             13732|1980-12-07 00:00:00|187.96|   198|\n",
      "|        41044|               90.0| 5592|             Kaka|            138449|1982-04-22 00:00:00|185.42|   183|\n",
      "|        30981|              92.75| 6176|     Lionel Messi|            158023|1987-06-24 00:00:00|170.18|   159|\n",
      "|        40636|               90.0| 6377|      Luis Suarez|            176580|1987-01-24 00:00:00|182.88|   187|\n",
      "|        27299|               90.0| 6556|     Manuel Neuer|            167495|1986-03-27 00:00:00|193.04|   203|\n",
      "|        22543|               90.0| 8704|   Radamel Falcao|            167397|1986-02-10 00:00:00| 177.8|   159|\n",
      "|        30743|               91.0| 9216|       Ronaldinho|             28130|1980-03-21 00:00:00|182.88|   168|\n",
      "|        30626|               91.0|10203|    Thierry Henry|              1625|1977-08-17 00:00:00|187.96|   183|\n",
      "|        30829|               93.0|10749|     Wayne Rooney|             54050|1985-10-24 00:00:00|175.26|   183|\n",
      "+-------------+-------------------+-----+-----------------+------------------+-------------------+------+------+\n",
      "only showing top 20 rows\n",
      "\n"
     ]
    }
   ],
   "source": [
    "spark.sql(\"SELECT player_api_id, overall_rating FROM stats ORDER BY overall_rating DESC LIMIT 100\")\\\n",
    "            .groupBy('player_api_id').agg({'overall_rating':'mean'}).join(players, ['player_api_id']).show()"
   ]
  },
  {
   "cell_type": "code",
   "execution_count": 76,
   "id": "a4ce0352",
   "metadata": {},
   "outputs": [],
   "source": [
    "goats = spark.sql(\"SELECT player_api_id, overall_rating FROM stats ORDER BY overall_rating DESC LIMIT 100\")\\\n",
    "            .groupBy('player_api_id').agg({'overall_rating':'mean'})\n",
    "\n",
    "goats.createOrReplaceTempView(\"goats\")"
   ]
  },
  {
   "cell_type": "code",
   "execution_count": 80,
   "id": "117fbbe1",
   "metadata": {},
   "outputs": [
    {
     "name": "stdout",
     "output_type": "stream",
     "text": [
      "+-------------+-------------------+-----+-------------+-----------------+------------------+-------------------+------+------+\n",
      "|player_api_id|avg(overall_rating)|   id|player_api_id|      player_name|player_fifa_api_id|           birthday|height|weight|\n",
      "+-------------+-------------------+-----+-------------+-----------------+------------------+-------------------+------+------+\n",
      "|        30723|               91.0|  388|        30723| Alessandro Nesta|              1088|1976-03-19 00:00:00|187.96|   174|\n",
      "|        30955|  90.28571428571429|  742|        30955|   Andres Iniesta|                41|1984-05-11 00:00:00|170.18|   150|\n",
      "|        30834|               90.0|  951|        30834|     Arjen Robben|              9014|1984-01-23 00:00:00|180.34|   176|\n",
      "|        30893|              91.95| 1995|        30893|Cristiano Ronaldo|             20801|1985-02-05 00:00:00|185.42|   176|\n",
      "|        30728|               90.0| 2426|        30728|  David Trezeguet|              5984|1977-10-15 00:00:00| 190.5|   176|\n",
      "|        34520|               91.0| 3183|        34520|  Fabio Cannavaro|              1183|1973-09-13 00:00:00|175.26|   165|\n",
      "|        30924|               90.0| 3514|        30924|    Franck Ribery|            156616|1983-04-07 00:00:00|170.18|   159|\n",
      "|        30631|               90.0| 3544|        30631|    Frank Lampard|              5471|1978-06-20 00:00:00|182.88|   196|\n",
      "|        30717|  91.33333333333333| 3826|        30717| Gianluigi Buffon|              1179|1978-01-28 00:00:00|193.04|   201|\n",
      "|        39989|               92.0| 3994|        39989|   Gregory Coupet|              1747|1972-12-31 00:00:00|180.34|   176|\n",
      "|        30657|               90.5| 4366|        30657|    Iker Casillas|              5479|1981-05-20 00:00:00|185.42|   185|\n",
      "|        30627|               91.0| 5120|        30627|       John Terry|             13732|1980-12-07 00:00:00|187.96|   198|\n",
      "|        41044|               90.0| 5592|        41044|             Kaka|            138449|1982-04-22 00:00:00|185.42|   183|\n",
      "|        30981|              92.75| 6176|        30981|     Lionel Messi|            158023|1987-06-24 00:00:00|170.18|   159|\n",
      "|        40636|               90.0| 6377|        40636|      Luis Suarez|            176580|1987-01-24 00:00:00|182.88|   187|\n",
      "|        27299|               90.0| 6556|        27299|     Manuel Neuer|            167495|1986-03-27 00:00:00|193.04|   203|\n",
      "|        22543|               90.0| 8704|        22543|   Radamel Falcao|            167397|1986-02-10 00:00:00| 177.8|   159|\n",
      "|        30743|               91.0| 9216|        30743|       Ronaldinho|             28130|1980-03-21 00:00:00|182.88|   168|\n",
      "|        30626|               91.0|10203|        30626|    Thierry Henry|              1625|1977-08-17 00:00:00|187.96|   183|\n",
      "|        30829|               93.0|10749|        30829|     Wayne Rooney|             54050|1985-10-24 00:00:00|175.26|   183|\n",
      "+-------------+-------------------+-----+-------------+-----------------+------------------+-------------------+------+------+\n",
      "only showing top 20 rows\n",
      "\n"
     ]
    }
   ],
   "source": [
    "spark.sql(\"SELECT * FROM goats INNER JOIN players ON goats.player_api_id = players.player_api_id\").show()"
   ]
  },
  {
   "cell_type": "code",
   "execution_count": 96,
   "id": "33a2333c",
   "metadata": {},
   "outputs": [
    {
     "name": "stdout",
     "output_type": "stream",
     "text": [
      "+-------------+------------+\n",
      "|player_api_id|maximum_ever|\n",
      "+-------------+------------+\n",
      "|       101042|        64.0|\n",
      "|       101042|        64.0|\n",
      "|       101042|        64.0|\n",
      "|       101042|        67.0|\n",
      "|       101042|        68.0|\n",
      "|       101042|        68.0|\n",
      "|       101042|        68.0|\n",
      "|       101042|        68.0|\n",
      "|       101042|        68.0|\n",
      "|       101042|        68.0|\n",
      "|       101042|        68.0|\n",
      "|       101042|        68.0|\n",
      "|       101042|        68.0|\n",
      "|       101042|        68.0|\n",
      "|       101042|        68.0|\n",
      "|       101042|        69.0|\n",
      "|       101042|        69.0|\n",
      "|       101042|        69.0|\n",
      "|       101042|        69.0|\n",
      "|       101070|        68.0|\n",
      "+-------------+------------+\n",
      "only showing top 20 rows\n",
      "\n"
     ]
    }
   ],
   "source": [
    "spark.sql(\"SELECT player_api_id,year, overall_rating, MAX(overall_rating) OVER (PARTITION BY player_api_id ORDER BY date) as maximum_ever FROM stats\")\\\n",
    "  .select('player_api_id','maximum_ever').show()"
   ]
  },
  {
   "cell_type": "markdown",
   "id": "d2379304",
   "metadata": {},
   "source": [
    "### Partition data: parquet file"
   ]
  },
  {
   "cell_type": "code",
   "execution_count": 376,
   "id": "ca52c59a",
   "metadata": {},
   "outputs": [
    {
     "data": {
      "text/plain": [
       "DataFrame[Row_ID: string, Order_ID: string, Order_Date: string, Ship_Date: string, Ship_Mode: string, Customer_ID: string, Customer_Name: string, Segment: string, City: string, State: string, Country: string, Region: string, Product_ID: string, Category: string, Sub-Category: string, Product_Name: string, Sales: string, Quantity: string, Discount: string, Profit: string, Cost: double, Profitable_Flag: string, Order_Date_Clean: date, Ship_Date_Clean: date, Upper_Cased_Name: string]"
      ]
     },
     "execution_count": 376,
     "metadata": {},
     "output_type": "execute_result"
    }
   ],
   "source": [
    "df"
   ]
  },
  {
   "cell_type": "code",
   "execution_count": 377,
   "id": "c5a73fe5",
   "metadata": {},
   "outputs": [
    {
     "data": {
      "text/plain": [
       "6"
      ]
     },
     "execution_count": 377,
     "metadata": {},
     "output_type": "execute_result"
    }
   ],
   "source": [
    "df.rdd.getNumPartitions()"
   ]
  },
  {
   "cell_type": "code",
   "execution_count": 378,
   "id": "a42c3002",
   "metadata": {},
   "outputs": [],
   "source": [
    "df = df.repartition(6)"
   ]
  },
  {
   "cell_type": "code",
   "execution_count": 388,
   "id": "9abe774e",
   "metadata": {
    "scrolled": true
   },
   "outputs": [
    {
     "data": {
      "text/plain": [
       "6"
      ]
     },
     "execution_count": 388,
     "metadata": {},
     "output_type": "execute_result"
    }
   ],
   "source": [
    "df.rdd.getNumPartitions()"
   ]
  },
  {
   "cell_type": "code",
   "execution_count": 384,
   "id": "152d4d7c",
   "metadata": {},
   "outputs": [],
   "source": [
    "df.write.parquet(\"/home/julian/Python_course/Data_Manipulation_Techniques/superstore\", mode = \"overwrite\")"
   ]
  },
  {
   "cell_type": "code",
   "execution_count": 385,
   "id": "b45ea2ae",
   "metadata": {},
   "outputs": [],
   "source": [
    "new_df= spark.read.parquet(\"/home/julian/Python_course/Data_Manipulation_Techniques/superstore\")"
   ]
  },
  {
   "cell_type": "code",
   "execution_count": 386,
   "id": "8061e33d",
   "metadata": {},
   "outputs": [
    {
     "data": {
      "text/plain": [
       "3"
      ]
     },
     "execution_count": 386,
     "metadata": {},
     "output_type": "execute_result"
    }
   ],
   "source": [
    "new_df.rdd.getNumPartitions()"
   ]
  },
  {
   "cell_type": "code",
   "execution_count": 387,
   "id": "0f4d41ab",
   "metadata": {},
   "outputs": [
    {
     "data": {
      "text/plain": [
       "DataFrame[Row_ID: string, Order_ID: string, Order_Date: string, Ship_Date: string, Ship_Mode: string, Customer_ID: string, Customer_Name: string, Segment: string, City: string, State: string, Country: string, Region: string, Product_ID: string, Category: string, Sub-Category: string, Product_Name: string, Sales: string, Quantity: string, Discount: string, Profit: string, Cost: double, Profitable_Flag: string, Order_Date_Clean: date, Ship_Date_Clean: date, Upper_Cased_Name: string]"
      ]
     },
     "execution_count": 387,
     "metadata": {},
     "output_type": "execute_result"
    }
   ],
   "source": [
    "new_df"
   ]
  },
  {
   "cell_type": "code",
   "execution_count": 389,
   "id": "2bfef3d6",
   "metadata": {},
   "outputs": [
    {
     "data": {
      "text/plain": [
       "3"
      ]
     },
     "execution_count": 389,
     "metadata": {},
     "output_type": "execute_result"
    }
   ],
   "source": [
    "spark.read.parquet(\"/home/julian/Python_course/Data_Manipulation_Techniques/superstore\").rdd.getNumPartitions()"
   ]
  },
  {
   "cell_type": "code",
   "execution_count": null,
   "id": "01f91e0c",
   "metadata": {},
   "outputs": [],
   "source": []
  },
  {
   "cell_type": "code",
   "execution_count": null,
   "id": "522e528f",
   "metadata": {},
   "outputs": [],
   "source": []
  },
  {
   "cell_type": "code",
   "execution_count": null,
   "id": "31a22021",
   "metadata": {},
   "outputs": [],
   "source": []
  },
  {
   "cell_type": "code",
   "execution_count": null,
   "id": "7dfdffa8",
   "metadata": {},
   "outputs": [],
   "source": []
  },
  {
   "cell_type": "code",
   "execution_count": null,
   "id": "46a4a0bf",
   "metadata": {},
   "outputs": [],
   "source": []
  },
  {
   "cell_type": "code",
   "execution_count": null,
   "id": "78198814",
   "metadata": {},
   "outputs": [],
   "source": []
  },
  {
   "cell_type": "code",
   "execution_count": null,
   "id": "6ea4c354",
   "metadata": {},
   "outputs": [],
   "source": []
  },
  {
   "cell_type": "code",
   "execution_count": null,
   "id": "b7b4334c",
   "metadata": {},
   "outputs": [],
   "source": []
  },
  {
   "cell_type": "code",
   "execution_count": null,
   "id": "4ffec0fc",
   "metadata": {},
   "outputs": [],
   "source": []
  },
  {
   "cell_type": "code",
   "execution_count": null,
   "id": "8c5ec662",
   "metadata": {},
   "outputs": [],
   "source": []
  },
  {
   "cell_type": "code",
   "execution_count": null,
   "id": "33b5c55c",
   "metadata": {},
   "outputs": [],
   "source": []
  },
  {
   "cell_type": "code",
   "execution_count": null,
   "id": "d497cf73",
   "metadata": {},
   "outputs": [],
   "source": []
  },
  {
   "cell_type": "code",
   "execution_count": null,
   "id": "8959a1c7",
   "metadata": {},
   "outputs": [],
   "source": []
  },
  {
   "cell_type": "code",
   "execution_count": null,
   "id": "f6b569f4",
   "metadata": {},
   "outputs": [],
   "source": []
  },
  {
   "cell_type": "code",
   "execution_count": null,
   "id": "d327ba99",
   "metadata": {},
   "outputs": [],
   "source": []
  },
  {
   "cell_type": "code",
   "execution_count": null,
   "id": "b66fcd6a",
   "metadata": {},
   "outputs": [],
   "source": []
  },
  {
   "cell_type": "code",
   "execution_count": null,
   "id": "f756e57f",
   "metadata": {},
   "outputs": [],
   "source": []
  },
  {
   "cell_type": "code",
   "execution_count": null,
   "id": "0cecdafb",
   "metadata": {},
   "outputs": [],
   "source": []
  },
  {
   "cell_type": "code",
   "execution_count": null,
   "id": "bdf4ff94",
   "metadata": {},
   "outputs": [],
   "source": []
  },
  {
   "cell_type": "code",
   "execution_count": null,
   "id": "4fa6320c",
   "metadata": {},
   "outputs": [],
   "source": []
  },
  {
   "cell_type": "code",
   "execution_count": null,
   "id": "0f0c6d14",
   "metadata": {},
   "outputs": [],
   "source": []
  },
  {
   "cell_type": "code",
   "execution_count": null,
   "id": "4bede634",
   "metadata": {},
   "outputs": [],
   "source": []
  },
  {
   "cell_type": "code",
   "execution_count": null,
   "id": "b8547ab3",
   "metadata": {},
   "outputs": [],
   "source": []
  },
  {
   "cell_type": "code",
   "execution_count": null,
   "id": "27c67c72",
   "metadata": {},
   "outputs": [],
   "source": []
  },
  {
   "cell_type": "code",
   "execution_count": null,
   "id": "1c3fe387",
   "metadata": {},
   "outputs": [],
   "source": []
  },
  {
   "cell_type": "code",
   "execution_count": null,
   "id": "9f154db1",
   "metadata": {},
   "outputs": [],
   "source": []
  }
 ],
 "metadata": {
  "kernelspec": {
   "display_name": "Python 3 (ipykernel)",
   "language": "python",
   "name": "python3"
  },
  "language_info": {
   "codemirror_mode": {
    "name": "ipython",
    "version": 3
   },
   "file_extension": ".py",
   "mimetype": "text/x-python",
   "name": "python",
   "nbconvert_exporter": "python",
   "pygments_lexer": "ipython3",
   "version": "3.9.7"
  }
 },
 "nbformat": 4,
 "nbformat_minor": 5
}
